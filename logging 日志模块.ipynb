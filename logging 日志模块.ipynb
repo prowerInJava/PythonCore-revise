{
 "cells": [
  {
   "cell_type": "markdown",
   "metadata": {},
   "source": [
    "# 日志级别"
   ]
  },
  {
   "cell_type": "markdown",
   "metadata": {},
   "source": [
    "logging 模块提供5种常用级别，级别由低到高为:debug() info() warning() error() critical()"
   ]
  },
  {
   "cell_type": "code",
   "execution_count": 1,
   "metadata": {},
   "outputs": [
    {
     "name": "stderr",
     "output_type": "stream",
     "text": [
      "2020-01-07 11:11:14,846 - MainThread - root - <module> -INFO -INFO Level\n",
      "2020-01-07 11:11:14,851 - MainThread - root - <module> -WARNING -WARNING Level\n",
      "2020-01-07 11:11:14,852 - MainThread - root - <module> -ERROR -ERROR Level\n",
      "2020-01-07 11:11:14,853 - MainThread - root - <module> -CRITICAL -CRITICAL Level\n"
     ]
    }
   ],
   "source": [
    "#-*- coding:utf-8 -*-\n",
    "import logging\n",
    "#logging.basicConfig(level=logging.ERROR) #设置level 级别为ERROR logging只能输出级别大于等于ERROR的log\n",
    "#logging.basicConfig(level=logging.DEBUG)\n",
    "logging.basicConfig(level=logging.INFO,\n",
    "                   format='%(asctime)s - %(threadName)s - '\n",
    "                   '%(name)s - %(funcName)s -%(levelname)s -%(message)s')\n",
    "logging.debug(\"DEBUG Level\")\n",
    "logging.info(\"INFO Level\")\n",
    "logging.warning(\"WARNING Level\")\n",
    "logging.error(\"ERROR Level\")\n",
    "logging.critical(\"CRITICAL Level\")"
   ]
  },
  {
   "cell_type": "markdown",
   "metadata": {},
   "source": [
    "输出的日志信息中有root关键字，说明进行日志输出的对象时root日志器（logger）,也可以使用getLogger()函数创建自己的日志对象"
   ]
  },
  {
   "cell_type": "code",
   "execution_count": 2,
   "metadata": {},
   "outputs": [
    {
     "name": "stderr",
     "output_type": "stream",
     "text": [
      "2020-01-07 11:11:14,970 - MainThread - __main__ - <module> -INFO -INFO Level\n",
      "2020-01-07 11:11:14,971 - MainThread - __main__ - <module> -WARNING -WARNING Level\n",
      "2020-01-07 11:11:14,972 - MainThread - __main__ - <module> -ERROR -ERROR Level\n",
      "2020-01-07 11:11:14,973 - MainThread - __main__ - <module> -CRITICAL -CRITICAL Level\n"
     ]
    }
   ],
   "source": [
    "logger = logging.getLogger(__name__)#name 是当前模块名\n",
    "logger.debug(\"DEBUG Level\")\n",
    "logger.info(\"INFO Level\")\n",
    "logger.warning(\"WARNING Level\")\n",
    "logger.error(\"ERROR Level\")\n",
    "logger.critical(\"CRITICAL Level\")"
   ]
  },
  {
   "cell_type": "markdown",
   "metadata": {},
   "source": [
    "# 日志信息的格式化输出"
   ]
  },
  {
   "cell_type": "markdown",
   "metadata": {},
   "source": [
    "%(name)s 日志器名\n",
    "\n",
    "%(asctime)s 输出日志时间\n",
    "\n",
    "%(filename)s 包括路径的文件名\n",
    "\n",
    "%(funcName)s 函数名\n",
    "\n",
    "%(levelname)s 日志等级\n",
    "\n",
    "%(processName)s 进程名\n",
    "\n",
    "%(threadName)s 线程名\n",
    "\n",
    "%(message)s 输出信息"
   ]
  },
  {
   "cell_type": "code",
   "execution_count": 3,
   "metadata": {},
   "outputs": [
    {
     "name": "stderr",
     "output_type": "stream",
     "text": [
      "2020-01-07 11:11:15,071 - MainThread - __main__ - <module> -INFO -INFO Level\n",
      "2020-01-07 11:11:15,072 - MainThread - __main__ - <module> -WARNING -WARNING Level\n",
      "2020-01-07 11:11:15,072 - MainThread - __main__ - <module> -ERROR -ERROR Level\n",
      "2020-01-07 11:11:15,073 - MainThread - __main__ - <module> -CRITICAL -CRITICAL Level\n",
      "2020-01-07 11:11:15,074 - MainThread - __main__ - <module> -INFO -调用funlog函数\n",
      "2020-01-07 11:11:15,074 - MainThread - __main__ - funlog -INFO -进入了funlog函数\n"
     ]
    }
   ],
   "source": [
    "import logging\n",
    "logging.basicConfig(level=logging.INFO,\n",
    "                   format='%(asctime)s - %(threadName)s - '\n",
    "                   '%(name)s - %(funcName)s -%(levelname)s -%(message)s') # 设置日志格式\n",
    "log = logging.getLogger(__name__)\n",
    "log.debug(\"DEBUG Level\")\n",
    "log.info(\"INFO Level\")\n",
    "log.warning(\"WARNING Level\")\n",
    "log.error(\"ERROR Level\")\n",
    "log.critical(\"CRITICAL Level\")\n",
    "\n",
    "def funlog():\n",
    "    log.info(\"进入了funlog函数\")\n",
    "    \n",
    "log.info(\"调用funlog函数\")\n",
    "funlog()"
   ]
  },
  {
   "cell_type": "markdown",
   "metadata": {},
   "source": [
    "# 日志重定位"
   ]
  },
  {
   "cell_type": "markdown",
   "metadata": {},
   "source": [
    "日志信息默认输出到控制台，也可以将日志信息输出到日志文件中，甚至可以输出到网络中的其他计算机"
   ]
  },
  {
   "cell_type": "code",
   "execution_count": 4,
   "metadata": {},
   "outputs": [],
   "source": [
    "#修改上述代码块：\n",
    "logging.basicConfig(level=logging.INFO,\n",
    "                   format='%(asctime)s - %(threadName)s - '\n",
    "                   '%(name)s - %(funcName)s -%(levelname)s -%(message)s',\n",
    "                   filename = 'test.log') # 设置日志格式,并指定输出到test.log文件中"
   ]
  },
  {
   "cell_type": "markdown",
   "metadata": {},
   "source": [
    "# 使用配置文件"
   ]
  },
  {
   "cell_type": "markdown",
   "metadata": {},
   "source": [
    "将日志配置信息写在basicConfig函数中进行，是很不方便的，因此需要进行配置文件读取。"
   ]
  },
  {
   "cell_type": "code",
   "execution_count": 6,
   "metadata": {
    "scrolled": true
   },
   "outputs": [
    {
     "ename": "KeyError",
     "evalue": "'formatters'",
     "output_type": "error",
     "traceback": [
      "\u001b[1;31m---------------------------------------------------------------------------\u001b[0m",
      "\u001b[1;31mKeyError\u001b[0m                                  Traceback (most recent call last)",
      "\u001b[1;32m<ipython-input-6-a1ea76cc4723>\u001b[0m in \u001b[0;36m<module>\u001b[1;34m\u001b[0m\n\u001b[0;32m      1\u001b[0m \u001b[1;32mimport\u001b[0m \u001b[0mlogging\u001b[0m\u001b[1;33m.\u001b[0m\u001b[0mconfig\u001b[0m\u001b[1;33m\u001b[0m\u001b[0m\n\u001b[1;32m----> 2\u001b[1;33m \u001b[0mlogging\u001b[0m\u001b[1;33m.\u001b[0m\u001b[0mconfig\u001b[0m\u001b[1;33m.\u001b[0m\u001b[0mfileConfig\u001b[0m\u001b[1;33m(\u001b[0m\u001b[1;34m\"logger.conf\"\u001b[0m\u001b[1;33m)\u001b[0m\u001b[1;33m\u001b[0m\u001b[0m\n\u001b[0m\u001b[0;32m      3\u001b[0m \u001b[0mlogger\u001b[0m \u001b[1;33m=\u001b[0m \u001b[0mlogging\u001b[0m\u001b[1;33m.\u001b[0m\u001b[0mgetLogger\u001b[0m\u001b[1;33m(\u001b[0m\u001b[1;34m\"logger1\"\u001b[0m\u001b[1;33m)\u001b[0m\u001b[1;33m\u001b[0m\u001b[0m\n",
      "\u001b[1;32mc:\\program files\\python36\\lib\\logging\\config.py\u001b[0m in \u001b[0;36mfileConfig\u001b[1;34m(fname, defaults, disable_existing_loggers)\u001b[0m\n\u001b[0;32m     74\u001b[0m             \u001b[0mcp\u001b[0m\u001b[1;33m.\u001b[0m\u001b[0mread\u001b[0m\u001b[1;33m(\u001b[0m\u001b[0mfname\u001b[0m\u001b[1;33m)\u001b[0m\u001b[1;33m\u001b[0m\u001b[0m\n\u001b[0;32m     75\u001b[0m \u001b[1;33m\u001b[0m\u001b[0m\n\u001b[1;32m---> 76\u001b[1;33m     \u001b[0mformatters\u001b[0m \u001b[1;33m=\u001b[0m \u001b[0m_create_formatters\u001b[0m\u001b[1;33m(\u001b[0m\u001b[0mcp\u001b[0m\u001b[1;33m)\u001b[0m\u001b[1;33m\u001b[0m\u001b[0m\n\u001b[0m\u001b[0;32m     77\u001b[0m \u001b[1;33m\u001b[0m\u001b[0m\n\u001b[0;32m     78\u001b[0m     \u001b[1;31m# critical section\u001b[0m\u001b[1;33m\u001b[0m\u001b[1;33m\u001b[0m\u001b[0m\n",
      "\u001b[1;32mc:\\program files\\python36\\lib\\logging\\config.py\u001b[0m in \u001b[0;36m_create_formatters\u001b[1;34m(cp)\u001b[0m\n\u001b[0;32m    107\u001b[0m \u001b[1;32mdef\u001b[0m \u001b[0m_create_formatters\u001b[0m\u001b[1;33m(\u001b[0m\u001b[0mcp\u001b[0m\u001b[1;33m)\u001b[0m\u001b[1;33m:\u001b[0m\u001b[1;33m\u001b[0m\u001b[0m\n\u001b[0;32m    108\u001b[0m     \u001b[1;34m\"\"\"Create and return formatters\"\"\"\u001b[0m\u001b[1;33m\u001b[0m\u001b[0m\n\u001b[1;32m--> 109\u001b[1;33m     \u001b[0mflist\u001b[0m \u001b[1;33m=\u001b[0m \u001b[0mcp\u001b[0m\u001b[1;33m[\u001b[0m\u001b[1;34m\"formatters\"\u001b[0m\u001b[1;33m]\u001b[0m\u001b[1;33m[\u001b[0m\u001b[1;34m\"keys\"\u001b[0m\u001b[1;33m]\u001b[0m\u001b[1;33m\u001b[0m\u001b[0m\n\u001b[0m\u001b[0;32m    110\u001b[0m     \u001b[1;32mif\u001b[0m \u001b[1;32mnot\u001b[0m \u001b[0mlen\u001b[0m\u001b[1;33m(\u001b[0m\u001b[0mflist\u001b[0m\u001b[1;33m)\u001b[0m\u001b[1;33m:\u001b[0m\u001b[1;33m\u001b[0m\u001b[0m\n\u001b[0;32m    111\u001b[0m         \u001b[1;32mreturn\u001b[0m \u001b[1;33m{\u001b[0m\u001b[1;33m}\u001b[0m\u001b[1;33m\u001b[0m\u001b[0m\n",
      "\u001b[1;32mc:\\program files\\python36\\lib\\configparser.py\u001b[0m in \u001b[0;36m__getitem__\u001b[1;34m(self, key)\u001b[0m\n\u001b[0;32m    957\u001b[0m     \u001b[1;32mdef\u001b[0m \u001b[0m__getitem__\u001b[0m\u001b[1;33m(\u001b[0m\u001b[0mself\u001b[0m\u001b[1;33m,\u001b[0m \u001b[0mkey\u001b[0m\u001b[1;33m)\u001b[0m\u001b[1;33m:\u001b[0m\u001b[1;33m\u001b[0m\u001b[0m\n\u001b[0;32m    958\u001b[0m         \u001b[1;32mif\u001b[0m \u001b[0mkey\u001b[0m \u001b[1;33m!=\u001b[0m \u001b[0mself\u001b[0m\u001b[1;33m.\u001b[0m\u001b[0mdefault_section\u001b[0m \u001b[1;32mand\u001b[0m \u001b[1;32mnot\u001b[0m \u001b[0mself\u001b[0m\u001b[1;33m.\u001b[0m\u001b[0mhas_section\u001b[0m\u001b[1;33m(\u001b[0m\u001b[0mkey\u001b[0m\u001b[1;33m)\u001b[0m\u001b[1;33m:\u001b[0m\u001b[1;33m\u001b[0m\u001b[0m\n\u001b[1;32m--> 959\u001b[1;33m             \u001b[1;32mraise\u001b[0m \u001b[0mKeyError\u001b[0m\u001b[1;33m(\u001b[0m\u001b[0mkey\u001b[0m\u001b[1;33m)\u001b[0m\u001b[1;33m\u001b[0m\u001b[0m\n\u001b[0m\u001b[0;32m    960\u001b[0m         \u001b[1;32mreturn\u001b[0m \u001b[0mself\u001b[0m\u001b[1;33m.\u001b[0m\u001b[0m_proxies\u001b[0m\u001b[1;33m[\u001b[0m\u001b[0mkey\u001b[0m\u001b[1;33m]\u001b[0m\u001b[1;33m\u001b[0m\u001b[0m\n\u001b[0;32m    961\u001b[0m \u001b[1;33m\u001b[0m\u001b[0m\n",
      "\u001b[1;31mKeyError\u001b[0m: 'formatters'"
     ]
    }
   ],
   "source": [
    "import logging.config\n",
    "logging.config.fileConfig(\"logger.conf\")\n",
    "logger = logging.getLogger(\"logger1\") #从conf文件读取名字是logger1的配置信息创建日志器"
   ]
  },
  {
   "cell_type": "markdown",
   "metadata": {},
   "source": [
    "[loggers]   #配置日志器\n",
    "\n",
    "keys=root,simpleExample\n",
    "\n",
    "[logger_root]  #配置根日志器\n",
    "\n",
    "level=DEBUG\n",
    "\n",
    "handlers=consoleHandler  #日志器对应的处理器\n",
    "\n",
    "[logger_simpleExample]   #配置simpleExample日志器\n",
    "\n",
    "level=DEBUG\n",
    "\n",
    "handlers=fileHandler     #日志器对应的处理器\n",
    "\n",
    "qualname=logger1         #日志器名字\n",
    "\n",
    "[handlers]           #配置处理器\n",
    "\n",
    "keys=consolHandler,fileHandler      #包含两个处理器\n",
    "\n",
    "[handler_consoleHandler]             #配置consolHandler日志器\n",
    "\n",
    "class=StreamHandler\n",
    "\n",
    "level=DEBUG\n",
    "\n",
    "formatters=simpleFormatter\n",
    "\n",
    "args=(sys.stdout,)\n",
    "\n",
    "[handler_fileHandler]\n",
    "\n",
    "calss=FileHandler\n",
    "\n",
    "level=DEBUG\n",
    "\n",
    "formatter=simpleFormatter\n",
    "\n",
    "args=('test.log','a')\n",
    "\n",
    "[formatters]  #配置格式化器\n",
    "\n",
    "keys=simpleFormatter\n",
    "\n",
    "[formatter_simpleFormatter]\n",
    "\n",
    "format=%(asctime)s-%(levelname)s-%(message)s"
   ]
  },
  {
   "cell_type": "code",
   "execution_count": null,
   "metadata": {},
   "outputs": [],
   "source": []
  }
 ],
 "metadata": {
  "kernelspec": {
   "display_name": "Python 3",
   "language": "python",
   "name": "python3"
  },
  "language_info": {
   "codemirror_mode": {
    "name": "ipython",
    "version": 3
   },
   "file_extension": ".py",
   "mimetype": "text/x-python",
   "name": "python",
   "nbconvert_exporter": "python",
   "pygments_lexer": "ipython3",
   "version": "3.6.3"
  }
 },
 "nbformat": 4,
 "nbformat_minor": 2
}
