{
 "cells": [
  {
   "cell_type": "markdown",
   "metadata": {},
   "source": [
    "# threading 模块"
   ]
  },
  {
   "cell_type": "markdown",
   "metadata": {},
   "source": [
    "hreading 模块API是面向对象的，其中最重要的是线程类Thread，\n",
    "\n",
    "常用线程函数:\n",
    "\n",
    "threading.active_count() :返回当前处于活跃状态的线程数\n",
    "\n",
    "threading.current_thread() :返回当前的Thread对象\n",
    "\n",
    "threading.main_thread() :返回主线程对象，主线程是Python解释器启动的线程"
   ]
  },
  {
   "cell_type": "code",
   "execution_count": 1,
   "metadata": {},
   "outputs": [
    {
     "name": "stdout",
     "output_type": "stream",
     "text": [
      "MainThread\n",
      "5\n",
      "MainThread\n"
     ]
    }
   ],
   "source": [
    "# coding=utf-8\n",
    "\n",
    "\n",
    "import threading\n",
    "\n",
    "\n",
    "t = threading.current_thread()\n",
    "\n",
    "print(t.name)\n",
    "\n",
    "\n",
    "print(threading.active_count())\n",
    "\n",
    "t = threading.main_thread()\n",
    "\n",
    "print(t.name)"
   ]
  },
  {
   "cell_type": "markdown",
   "metadata": {},
   "source": [
    "# 创建线程"
   ]
  },
  {
   "cell_type": "markdown",
   "metadata": {},
   "source": [
    "创建一个可执行的线程需要线程对象和线程体这两个要素。\n",
    "\n",
    "线程对象:线程对象是threading模块线程类Thread所创建的对象。\n",
    "\n",
    "线程体:线程体是线程执行函数，线程启动后会执行该函数，线程处理代码是在线程体中编写的。\n",
    "\n",
    "提供线程体主要有一下两种方式。\n",
    "\n",
    "(1)自定义函数作为线程体。\n",
    "\n",
    "(2)继承Thread类重写run()方法，run()方法作为线程体。"
   ]
  },
  {
   "cell_type": "markdown",
   "metadata": {},
   "source": [
    "## 自定义函数作为线程体"
   ]
  },
  {
   "cell_type": "markdown",
   "metadata": {},
   "source": [
    "创建Thread对象时,可以通过Thread构造方法将一个自定义函数传递给它，\n",
    "\n",
    "threading.Thread(target=None, name=None, args())  target参数是超线程体，自定义函数可以作为线程体;name 参数可以设置线程名，如果省略，Python解释器会自动分配一个名字；args 是为自定义函数提供参数，它是一个元组类型。"
   ]
  },
  {
   "cell_type": "code",
   "execution_count": 3,
   "metadata": {},
   "outputs": [
    {
     "name": "stdout",
     "output_type": "stream",
     "text": [
      "第0次执行线程Thread-7\n",
      "第0次执行线程MyThread\n",
      "线程Thread-7执行完毕。\n",
      "第1次执行线程Thread-7\n",
      "线程MyThread执行完毕。\n",
      "第1次执行线程MyThread\n",
      "线程Thread-7执行完毕。\n",
      "第2次执行线程Thread-7\n",
      "线程MyThread执行完毕。\n",
      "第2次执行线程MyThread\n",
      "线程Thread-7执行完毕。\n",
      "第3次执行线程Thread-7\n",
      "线程MyThread执行完毕。\n",
      "第3次执行线程MyThread\n",
      "线程Thread-7执行完毕。\n",
      "第4次执行线程Thread-7\n",
      "线程MyThread执行完毕。\n",
      "第4次执行线程MyThread\n",
      "线程Thread-7执行完毕。\n",
      "线程MyThread执行完毕。\n"
     ]
    }
   ],
   "source": [
    "#coding=utf-8\n",
    "\n",
    "import threading\n",
    "import time\n",
    "\n",
    "def thread_body():\n",
    "    t = threading.current_thread()\n",
    "    for n in range(5):\n",
    "        print(\"第{0}次执行线程{1}\".format(n,t.name))\n",
    "        \n",
    "        time.sleep(1)\n",
    "        print(\"线程{0}执行完毕。\".format(t.name))\n",
    "        \n",
    "def main():\n",
    "    t1 = threading.Thread(target=thread_body)\n",
    "    \n",
    "    t1.start()\n",
    "    \n",
    "    t2 = threading.Thread(target=thread_body,name=\"MyThread\")\n",
    "    \n",
    "    t2.start()\n",
    "    \n",
    "if __name__=='__main__':\n",
    "    main()"
   ]
  },
  {
   "cell_type": "markdown",
   "metadata": {},
   "source": [
    "## 继承Thread类重写run()方法，run()方法作为线程体。"
   ]
  },
  {
   "cell_type": "markdown",
   "metadata": {},
   "source": [
    "创建一个Thread子类，并重写run方法"
   ]
  },
  {
   "cell_type": "code",
   "execution_count": 5,
   "metadata": {},
   "outputs": [
    {
     "name": "stdout",
     "output_type": "stream",
     "text": [
      "第0次执行线程Thread-8\n",
      "第0次执行线程MyThread\n",
      "线程Thread-8执行完毕。\n",
      "第1次执行线程Thread-8\n",
      "线程MyThread执行完毕。\n",
      "第1次执行线程MyThread\n",
      "线程Thread-8执行完毕。\n",
      "第2次执行线程Thread-8\n",
      "线程MyThread执行完毕。\n",
      "第2次执行线程MyThread\n",
      "线程Thread-8执行完毕。\n",
      "第3次执行线程Thread-8\n",
      "线程MyThread执行完毕。\n",
      "第3次执行线程MyThread\n",
      "线程Thread-8执行完毕。\n",
      "第4次执行线程Thread-8\n",
      "线程MyThread执行完毕。\n",
      "第4次执行线程MyThread\n",
      "线程Thread-8执行完毕。\n",
      "线程MyThread执行完毕。\n"
     ]
    }
   ],
   "source": [
    "import threading\n",
    "import time\n",
    "\n",
    "class MyThread(threading.Thread):\n",
    "    def __init__(self,name=None):\n",
    "        super().__init__(name=name)\n",
    "        \n",
    "    def run(self):\n",
    "        t = threading.current_thread()\n",
    "        for n in range(5):\n",
    "            print(\"第{0}次执行线程{1}\".format(n,t.name))\n",
    "        \n",
    "            time.sleep(1)\n",
    "            print(\"线程{0}执行完毕。\".format(t.name))\n",
    "def main():\n",
    "    t1 = MyThread()\n",
    "    t1.start()\n",
    "    \n",
    "    t2 = MyThread(name=\"MyThread\")\n",
    "    t2.start()\n",
    "    \n",
    "if __name__ == \"__main__\":\n",
    "    main()"
   ]
  },
  {
   "cell_type": "markdown",
   "metadata": {},
   "source": [
    "# 线程管理"
   ]
  },
  {
   "cell_type": "markdown",
   "metadata": {},
   "source": [
    "线程管理包括线程创建、线程启动、线程休眠、等待线程结束和线程停止。"
   ]
  },
  {
   "cell_type": "markdown",
   "metadata": {},
   "source": [
    "## 等待线程结束"
   ]
  },
  {
   "cell_type": "markdown",
   "metadata": {},
   "source": [
    "当前线程调用t1线程的join()方法时会阻塞当前线程，等待t1线程结束如果等待超时，则当前线程会回到活动状态继续执行。\n",
    "\n",
    "join(timeout=None)\n",
    "\n",
    "使用join()方法的场景是，一个线程依赖于另外一个线程的运行结果，所以调用另一个线程的join()方法等它运行完成。"
   ]
  },
  {
   "cell_type": "code",
   "execution_count": 8,
   "metadata": {},
   "outputs": [
    {
     "name": "stdout",
     "output_type": "stream",
     "text": [
      "主线程 开始...\n",
      "ThreadA 开始...\n",
      "ThreadA 执行...\n",
      "ThreadA 结束...\n",
      "ThreadA 执行...\n",
      "ThreadA 结束...\n",
      "value = 2\n",
      "主线程结束\n"
     ]
    }
   ],
   "source": [
    "import threading\n",
    "import time\n",
    "\n",
    "value = 0\n",
    "\n",
    "def thread_body():\n",
    "    global value\n",
    "    \n",
    "    print(\"ThreadA 开始...\")\n",
    "    for n in range(2):\n",
    "        print(\"ThreadA 执行...\")\n",
    "        value += 1\n",
    "        time.sleep(1)\n",
    "        print(\"ThreadA 结束...\")\n",
    "\n",
    "def main():\n",
    "    print(\"主线程 开始...\")\n",
    "    t1 = threading.Thread(target=thread_body,name=\"ThreadA\")\n",
    "    t1.start()\n",
    "    t1.join()\n",
    "    print(\"value = {0}\".format(value))\n",
    "    print(\"主线程结束\")\n",
    "    \n",
    "if __name__ == \"__main__\":\n",
    "    main()"
   ]
  },
  {
   "cell_type": "markdown",
   "metadata": {},
   "source": [
    "## 线程停止"
   ]
  },
  {
   "cell_type": "markdown",
   "metadata": {},
   "source": [
    "当线程体结束(即run()方法或执行函数结束)，线程就会停止。但是有些业务比较复杂，子线程中会有一个死循环，为了能够停止线程，应设置一个线程停止变量."
   ]
  },
  {
   "cell_type": "code",
   "execution_count": 14,
   "metadata": {},
   "outputs": [
    {
     "name": "stdout",
     "output_type": "stream",
     "text": [
      "开始线程Mythread\n",
      "线程运行中...\n",
      "线程运行中...\n",
      "请输入停止指令:exitexit\n",
      "线程运行中...\n",
      "执行完成\n"
     ]
    }
   ],
   "source": [
    "import threading\n",
    "import time\n",
    "\n",
    "isrunning = True\n",
    "\n",
    "def thread_body():\n",
    "    while isrunning:\n",
    "        print(\"线程运行中...\")\n",
    "        time.sleep(1)\n",
    "        \n",
    "    print(\"执行完成\")\n",
    "    \n",
    "def main():\n",
    "    t1 = threading.Thread(target=thread_body,name=\"Mythread\")\n",
    "    print(\"开始线程{0}\".format(t1.name))\n",
    "    t1.start()\n",
    "    \n",
    "    command = input(\"请输入停止指令:exit\")\n",
    "    if command ==\"exit\":\n",
    "        global isrunning\n",
    "        isrunning = False\n",
    "        \n",
    "if __name__==\"__main__\":\n",
    "    main()"
   ]
  },
  {
   "cell_type": "markdown",
   "metadata": {},
   "source": [
    "# 线程安全"
   ]
  },
  {
   "cell_type": "markdown",
   "metadata": {},
   "source": [
    "在多线程环境下，访问相同的资源，有可能会引发线程不安全问题。"
   ]
  },
  {
   "cell_type": "markdown",
   "metadata": {},
   "source": [
    "## 临界资源问题"
   ]
  },
  {
   "cell_type": "markdown",
   "metadata": {},
   "source": [
    "多个线程同时运行，有时线程之间需要共享数据，一个线程需要其他线程的数据，否则就不能保证程序运行结果的正确性。"
   ]
  },
  {
   "cell_type": "code",
   "execution_count": 17,
   "metadata": {},
   "outputs": [
    {
     "name": "stdout",
     "output_type": "stream",
     "text": [
      "第5号票，已经售出\n",
      "第4号票，已经售出\n",
      "第3号票，已经售出\n",
      "第2号票，已经售出\n",
      "第1号票，已经售出\n",
      "第0号票，已经售出\n"
     ]
    }
   ],
   "source": [
    "import threading\n",
    "import time\n",
    "\n",
    "class TicketDB:\n",
    "    def __init__(self):\n",
    "        self.ticket_count = 5\n",
    "        \n",
    "    def get_ticket_count(self):\n",
    "        return self.ticket_count\n",
    "    \n",
    "    def sell_ticket(self):\n",
    "        #TODO 等待用户付款\n",
    "        #线程休眠，阻塞当前线程，模拟等待用户付款\n",
    "        time.sleep(1)\n",
    "        print(\"第{0}号票，已经售出\".format(self.ticket_count))\n",
    "        self.ticket_count -= 1\n",
    "        \n",
    "db = TicketDB()\n",
    "def thread1_body():\n",
    "    global db\n",
    "    while True:\n",
    "        curr_ticket_count = db.get_ticket_count()\n",
    "        \n",
    "        if curr_ticket_count > 0:\n",
    "            db.sell_ticket()\n",
    "        else:\n",
    "            break\n",
    "            \n",
    "def thread2_body():\n",
    "    global db\n",
    "    while True:\n",
    "        curr_ticket_count = db.get_ticket_count()\n",
    "        \n",
    "        if curr_ticket_count > 0:\n",
    "            db.sell_ticket()\n",
    "        else:\n",
    "            break\n",
    "def main():\n",
    "    t1 = threading.Thread(target=thread1_body)\n",
    "    t1.start()\n",
    "    t2 = threading.Thread(target=thread2_body)\n",
    "    t2.start()\n",
    "    \n",
    "if __name__==\"__main__\":\n",
    "    main()"
   ]
  },
  {
   "cell_type": "markdown",
   "metadata": {},
   "source": [
    "由上可见0号票被卖出，5张票卖了6次，出现超卖情况，根本原因在于多线程间共享的数据不一致性导致。临界资源未同步"
   ]
  },
  {
   "cell_type": "markdown",
   "metadata": {},
   "source": [
    "## 多线程同步"
   ]
  },
  {
   "cell_type": "markdown",
   "metadata": {},
   "source": [
    "Python 提供了“互斥”机制，可以对这些资源加上互斥锁，在任一时刻只能由一个线程访问，即使该线程出现阻塞，该对象的被锁定状态也不会解除，其他线程仍不能访问该对象，这就是多线程同步。线程同步是保证线程安全的重要手段，但是线程同步客观上会导致性能下降。\n",
    "\n",
    "对于简单线程同步可以使用threading模块的Lock类。Lock对象有两种状态，即锁定 和 未锁定 ，默认是未锁定状态。Lock对象有acquire() 和 release()两个方法实现锁定和解锁，acquire()方法可以实现锁定，release()解锁."
   ]
  },
  {
   "cell_type": "code",
   "execution_count": 19,
   "metadata": {},
   "outputs": [
    {
     "name": "stdout",
     "output_type": "stream",
     "text": [
      "买家1要买第{0}号票 5\n",
      "第5号票，已经售出\n",
      "买家2要买第{0}号票 4\n",
      "第4号票，已经售出\n",
      "买家1要买第{0}号票 3\n",
      "第3号票，已经售出\n",
      "买家2要买第{0}号票 2\n",
      "第2号票，已经售出\n",
      "买家1要买第{0}号票 1\n",
      "第1号票，已经售出\n"
     ]
    }
   ],
   "source": [
    "import threading\n",
    "import time\n",
    "\n",
    "class TicketDB:\n",
    "    def __init__(self):\n",
    "        self.ticket_count = 5\n",
    "        \n",
    "    def get_ticket_count(self):\n",
    "        return self.ticket_count\n",
    "    \n",
    "    def sell_ticket(self):\n",
    "        #TODO 等待用户付款\n",
    "        #线程休眠，阻塞当前线程，模拟等待用户付款\n",
    "        time.sleep(1)\n",
    "        print(\"第{0}号票，已经售出\".format(self.ticket_count))\n",
    "        self.ticket_count -= 1\n",
    "        \n",
    "db = TicketDB()\n",
    "lock = threading.Lock() #创建锁对象\n",
    "\n",
    "def thread1_body():\n",
    "    global db,lock\n",
    "    \n",
    "    while True:\n",
    "        lock.acquire()\n",
    "        curr_ticket_count = db.get_ticket_count()\n",
    "        \n",
    "        if curr_ticket_count > 0:\n",
    "            print(\"买家1要买第{0}号票\",curr_ticket_count)\n",
    "            db.sell_ticket()\n",
    "            \n",
    "        else:\n",
    "            lock.release()\n",
    "            break\n",
    "        lock.release()\n",
    "        time.sleep(1)\n",
    "            \n",
    "def thread2_body():\n",
    "    global db,lock\n",
    "    while True:\n",
    "        lock.acquire()\n",
    "        curr_ticket_count = db.get_ticket_count()\n",
    "        \n",
    "        if curr_ticket_count > 0:\n",
    "            print(\"买家2要买第{0}号票\",curr_ticket_count)\n",
    "            db.sell_ticket()\n",
    "        else:\n",
    "            lock.release()\n",
    "            break\n",
    "        lock.release()\n",
    "        time.sleep(1)\n",
    "def main():\n",
    "    t1 = threading.Thread(target=thread1_body)\n",
    "    t1.start()\n",
    "    t2 = threading.Thread(target=thread2_body)\n",
    "    t2.start()\n",
    "    \n",
    "if __name__==\"__main__\":\n",
    "    main()"
   ]
  },
  {
   "cell_type": "markdown",
   "metadata": {},
   "source": [
    "# 线程间通信"
   ]
  },
  {
   "cell_type": "markdown",
   "metadata": {},
   "source": [
    "如果两个线程之间有依赖关系，线程之间必须进行通信，互相协调才能完成工作。实现线程间通信，可以使用threading 模块中的Condition和Event类。"
   ]
  },
  {
   "cell_type": "markdown",
   "metadata": {},
   "source": [
    "## 使用Condition实现线程间通信"
   ]
  },
  {
   "cell_type": "markdown",
   "metadata": {},
   "source": [
    "Condition 被称为条件变量，Condition类提供了对复杂线程同步问题的支持，除了提供与Lock类相似的acquire() 和 release()方法外，还提供了wait()、notify() 和notify_all()方法，\n",
    "\n",
    "wait(timeout=None): 是当前线程释放锁，然后当前线程进入等待状态，等待相同条件变量中其他线程唤醒或超时，timeout是设置超时时间。\n",
    "\n",
    "notify():唤醒相同条件变量中的一个线程\n",
    "\n",
    "notify_all():唤醒相同条件变量中的所有线程"
   ]
  },
  {
   "cell_type": "code",
   "execution_count": 31,
   "metadata": {},
   "outputs": [
    {
     "name": "stdout",
     "output_type": "stream",
     "text": [
      "生产数字:1\n",
      "消费数字:1\n",
      "生产数字:2\n",
      "消费数字:2\n",
      "生产数字:3\n",
      "消费数字:3\n",
      "生产数字:4\n",
      "消费数字:4\n",
      "生产数字:5\n",
      "消费数字:5\n"
     ]
    }
   ],
   "source": [
    "#coding=utf-8\n",
    "\n",
    "\"\"\"\n",
    "经典的堆栈数据结构，一个线程生成一些数据，将数据压栈;另一个线程消费这些数据，将数据出栈。这两个线程相互依赖，当堆栈为空，消费线程无法取出\n",
    "数据时，应通知生成线程添加数据；当堆栈已满，生成线程无法添加数据时，应该通知消费线程取出数据。\n",
    "\"\"\"\n",
    "import threading\n",
    "import time\n",
    "import random\n",
    "\n",
    "#创建条件变量condition对象\n",
    "\n",
    "condition = threading.Condition()\n",
    "\n",
    "class Stack():\n",
    "    def __init__(self):\n",
    "        self.pointer = 0 #堆栈指针初始值为0\n",
    "        self.data = [-1,-1,-1,-1,-1] #堆栈有5个数字的空间\n",
    "        \n",
    "    #压栈   \n",
    "    def push(self,c):\n",
    "        global condition\n",
    "        condition.acquire()\n",
    "        #堆栈已经满了不能压栈\n",
    "        while self.pointer == len(self.data):\n",
    "            #等待其他线程把数据出栈\n",
    "            condition.wait()\n",
    "            \n",
    "        #通知其他线程把数据出栈\n",
    "        condition.notify()\n",
    "        #数据压栈\n",
    "        self.data[self.pointer] = c\n",
    "        #print(self.data)\n",
    "        #指针向上移动\n",
    "        self.pointer += 1\n",
    "        condition.release()\n",
    "    #出栈   \n",
    "    def pop(self):\n",
    "        global condition\n",
    "        condition.acquire()\n",
    "        #堆栈无数据不能出栈\n",
    "        while self.pointer == 0:\n",
    "            #等待其他线程进行压栈\n",
    "            condition.wait()\n",
    "        #通知其他线程压栈\n",
    "        condition.notify()\n",
    "        #指针向下移动\n",
    "        self.pointer -= 1\n",
    "        data = self.data[self.pointer]\n",
    "        condition.release()\n",
    "        #数据出栈\n",
    "        return data\n",
    "\n",
    "stack = Stack()\n",
    "\n",
    "#生产者\n",
    "def producer_thread_body():\n",
    "    global stack\n",
    "    #产生10个数字\n",
    "    for i in range(1,6):\n",
    "        #把数字压栈\n",
    "        stack.push(i)\n",
    "        print(\"生产数字:{0}\".format(i))\n",
    "        #每产生一个数字，线程睡眠1秒\n",
    "        time.sleep(1)\n",
    "#消费者       \n",
    "def consumer_thread_body():\n",
    "    global stack\n",
    "    #从堆栈取出一个数字\n",
    "    for i in range(1,6):\n",
    "        #从堆中读取数字\n",
    "        x = stack.pop()\n",
    "        print(\"消费数字:{0}\".format(x))\n",
    "        time.sleep(1)\n",
    "        \n",
    "def main():\n",
    "    producer = threading.Thread(target=producer_thread_body)\n",
    "    producer.start()\n",
    "    consumer = threading.Thread(target=consumer_thread_body)\n",
    "    consumer.start()\n",
    "    \n",
    "if __name__ == \"__main__\":\n",
    "    main()"
   ]
  },
  {
   "cell_type": "markdown",
   "metadata": {},
   "source": [
    "## 使用Event实现线程间通信"
   ]
  },
  {
   "cell_type": "markdown",
   "metadata": {},
   "source": [
    "使用Condition 实现线程间通信还是有些繁琐，threading模块提供的Event可是实现线程间通信。Event对象调用wait(timeout=None)方法会阻塞当前线程，是线程进入等待状态，知道另一个线程调用该Event对象的set()方法，通知所有等待线程恢复运行"
   ]
  },
  {
   "cell_type": "code",
   "execution_count": 33,
   "metadata": {},
   "outputs": [
    {
     "name": "stdout",
     "output_type": "stream",
     "text": [
      "生产数字:1\n",
      "消费数字:1\n",
      "生产数字:2\n",
      "消费数字:2\n",
      "生产数字:3\n",
      "消费数字:3\n",
      "生产数字:4\n",
      "消费数字:4\n",
      "生产数字:5\n",
      "消费数字:5\n"
     ]
    }
   ],
   "source": [
    "#使用Event 重构堆栈实例\n",
    "import threading\n",
    "import time\n",
    "import random\n",
    "\n",
    "#创建条件变量condition对象\n",
    "\n",
    "event = threading.Event()\n",
    "\n",
    "class Stack():\n",
    "    def __init__(self):\n",
    "        self.pointer = 0 #堆栈指针初始值为0\n",
    "        self.data = [-1,-1,-1,-1,-1] #堆栈有5个数字的空间\n",
    "        \n",
    "    #压栈   \n",
    "    def push(self,c):\n",
    "        global event\n",
    "        #堆栈已经满了不能压栈\n",
    "        while self.pointer == len(self.data):\n",
    "            #等待其他线程把数据出栈\n",
    "            event.wait()\n",
    "            \n",
    "        #通知其他线程把数据出栈\n",
    "        event.set()\n",
    "        #数据压栈\n",
    "        self.data[self.pointer] = c\n",
    "        #print(self.data)\n",
    "        #指针向上移动\n",
    "        self.pointer += 1\n",
    "    #出栈   \n",
    "    def pop(self):\n",
    "        global event\n",
    "        #堆栈无数据不能出栈\n",
    "        while self.pointer == 0:\n",
    "            #等待其他线程进行压栈\n",
    "            event.wait()\n",
    "        #通知其他线程压栈\n",
    "        event.set()\n",
    "        #指针向下移动\n",
    "        self.pointer -= 1\n",
    "        data = self.data[self.pointer]\n",
    "        #数据出栈\n",
    "        return data\n",
    "\n",
    "stack = Stack()\n",
    "\n",
    "#生产者\n",
    "def producer_thread_body():\n",
    "    global stack\n",
    "    #产生10个数字\n",
    "    for i in range(1,6):\n",
    "        #把数字压栈\n",
    "        stack.push(i)\n",
    "        print(\"生产数字:{0}\".format(i))\n",
    "        #每产生一个数字，线程睡眠1秒\n",
    "        time.sleep(1)\n",
    "#消费者       \n",
    "def consumer_thread_body():\n",
    "    global stack\n",
    "    #从堆栈取出一个数字\n",
    "    for i in range(1,6):\n",
    "        #从堆中读取数字\n",
    "        x = stack.pop()\n",
    "        print(\"消费数字:{0}\".format(x))\n",
    "        time.sleep(1)\n",
    "        \n",
    "def main():\n",
    "    producer = threading.Thread(target=producer_thread_body)\n",
    "    producer.start()\n",
    "    consumer = threading.Thread(target=consumer_thread_body)\n",
    "    consumer.start()\n",
    "    \n",
    "if __name__ == \"__main__\":\n",
    "    main()"
   ]
  },
  {
   "cell_type": "markdown",
   "metadata": {},
   "source": [
    "Event 实现线程间通信要比使用condition实现线程间通信简单。Event 不需要会用锁同步代码。"
   ]
  }
 ],
 "metadata": {
  "kernelspec": {
   "display_name": "Python 3",
   "language": "python",
   "name": "python3"
  },
  "language_info": {
   "codemirror_mode": {
    "name": "ipython",
    "version": 3
   },
   "file_extension": ".py",
   "mimetype": "text/x-python",
   "name": "python",
   "nbconvert_exporter": "python",
   "pygments_lexer": "ipython3",
   "version": "3.6.3"
  }
 },
 "nbformat": 4,
 "nbformat_minor": 2
}
