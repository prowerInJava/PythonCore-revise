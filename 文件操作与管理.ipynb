{
 "cells": [
  {
   "cell_type": "markdown",
   "metadata": {},
   "source": [
    "# 文件操作"
   ]
  },
  {
   "cell_type": "markdown",
   "metadata": {},
   "source": [
    "文件操作主要包括对文本内容的读写操作，这些操作是通过文件对象（file object）实现的，通过文件对象可以读写文本和二进制文件。"
   ]
  },
  {
   "cell_type": "markdown",
   "metadata": {},
   "source": [
    "## 打开文件"
   ]
  },
  {
   "cell_type": "markdown",
   "metadata": {},
   "source": [
    "文件对象可以通过open()函数获得。open()函数是Python内置函数，它屏蔽了创建文件对象的细节，使得创建文件对象变得简单。\n",
    "\n",
    "open(file,mode=\"r\",buffering=-1,encoding=None,errors=None,newline=None,closefd=True,opener=None)\n",
    "\n",
    "file参数是要打开的文件，可以使字符串或整数。字符串表示文件路径和文件名，整数表示文件描述符，文件描述符指向一个已经打开的文件。\n",
    "\n",
    "mode参数用来设置文件打开模式。二进制文件需要设置rb、wb、xb、ab，如果是文本文件需要设置rt、wt、xt、at，由于t是默认模式，可以省略。\n",
    "\n",
    "r 只读模式打开文件(默认)\n",
    "\n",
    "w 写入模式打开文件，会覆盖已经存在的文件\n",
    "\n",
    "x 独占创建模式，文件不存在时创建并以写入模式打开，如果文件已经存在则抛出异常FileExistsError\n",
    "\n",
    "a 追加模式，如果文件存在则写入内容追加到文本末尾\n",
    "\n",
    "b 二进制模式\n",
    "\n",
    "t 文本模式（默认）\n",
    "\n",
    "+ 更新模式（必须与r w x a组合使用来设置文件为读写模式）\n",
    "\n",
    "buffering 参数设置缓冲区策略，默认值为-1，当buffering=-1时，系统会自动设置缓冲区，通常是4096或8192字节；当buffering=0时关闭缓冲区，关闭缓冲区时数据直接写入文件中，这种模式主要应用于二进制文件的写入操作；当buffering > 0 时，buffering 用来设置缓冲区字节大小。\n",
    "\n",
    "encoding 和 errors参数: encoding 用来指定打开文件时的文件编码，主要用于文本文件的打开。errors 参数用来指定编码发生错误时如何处理\n",
    "\n",
    "newline参数用来设置换行模式\n",
    "\n",
    "closefd和opener参数: 这两个参数在file参数为文件描述符时使用。closefd 为True 时，文件对象调用close()方法关闭文件，但不会关闭文件描述符所对应的文件。opener用于打开文件时执行一些加工操作，opener参数执行一个函数，改函数返回一个文件描述符。\n"
   ]
  },
  {
   "cell_type": "code",
   "execution_count": 1,
   "metadata": {},
   "outputs": [],
   "source": [
    "# coding = utf-8\n",
    "\n",
    "f = open(\"test.txt\",\"w+\")\n",
    "f.write(\"World\")\n",
    "\n",
    "f = open(\"test.txt\",\"r+\")\n",
    "f.write(\"Hello\")\n",
    "\n",
    "f = open(\"test.txt\",\"a\")\n",
    "f.write(\" \")\n",
    "\n",
    "f = open(\"test.txt\",\"a+\")\n",
    "f.write(\"World\")\n",
    "f = open(\"test.txt\",\"a+\")\n",
    "f.write(\"\\nHello World\")\n",
    "f.close()"
   ]
  },
  {
   "cell_type": "markdown",
   "metadata": {},
   "source": [
    "## 关闭文件"
   ]
  },
  {
   "cell_type": "markdown",
   "metadata": {},
   "source": [
    "调用文件对象的close()方法关闭文件。文件的操作往往会抛出异常，为了保证文件操作无论正常结束还是异常结束都能关闭文件，调用close()方法应该放在异常处理的finally块中。更推荐使用with   as 代码块。"
   ]
  },
  {
   "cell_type": "code",
   "execution_count": 2,
   "metadata": {},
   "outputs": [
    {
     "name": "stdout",
     "output_type": "stream",
     "text": [
      "打开文件成功\n",
      "Hello World\n",
      "Hello World\n",
      "Hello World\n",
      "Hello World\n"
     ]
    }
   ],
   "source": [
    "f_name = \"test.txt\"\n",
    "try:\n",
    "    f = open(f_name)\n",
    "except OSError as e:\n",
    "    print(\"文件打开失败\")\n",
    "else:\n",
    "    print(\"打开文件成功\")\n",
    "    try:\n",
    "        content = f.read()\n",
    "        print(content)\n",
    "    except OSError as e:\n",
    "        print(\"处理OSError异常\")\n",
    "    finally:\n",
    "        f.close()\n",
    "with open (f_name,\"r\") as f:\n",
    "    content = f.read()\n",
    "    print(content)"
   ]
  },
  {
   "cell_type": "markdown",
   "metadata": {},
   "source": [
    "## 文本文件读写"
   ]
  },
  {
   "cell_type": "markdown",
   "metadata": {},
   "source": [
    "文本文件读写的单位是字符，而且是有字符编码的。文本文件读写主要有\n",
    "\n",
    "read(size=-1):读取到换行符或文件尾并返回单行字符串，如果已经到文件尾，则返回一个空字符串，size 是限制读取的字符数，size=-1时没有限制。\n",
    "\n",
    "readlines(hint=-1):读取文件数据到一个字符串列表中，每一个行数据是列表的一个元素，hint是限制读取行数，hint=-1时，没有限制。\n",
    "\n",
    "write(s):将字符串s写入文件，并返回写入的字符数。\n",
    "\n",
    "writelines(lines):向文件中写入一个列表，不添加行分隔符，因此通常为每一行末尾提供行分割符。\n",
    "\n",
    "flush():刷新写缓冲区，数据会写入到文件中。"
   ]
  },
  {
   "cell_type": "code",
   "execution_count": 3,
   "metadata": {},
   "outputs": [
    {
     "name": "stdout",
     "output_type": "stream",
     "text": [
      "['Hello World\\n', 'Hello World']\n",
      "文件复制成功\n"
     ]
    }
   ],
   "source": [
    "f_name = \"test.txt\"\n",
    "with open(f_name,\"r\",encoding=\"utf-8\") as f:\n",
    "    lines = f.readlines()\n",
    "    print(lines)\n",
    "    copy_file = \"copy.txt\"\n",
    "    with open(copy_file,\"w\",encoding=\"utf-8\") as copy_f:\n",
    "        copy_f.writelines(lines)\n",
    "        print(\"文件复制成功\")"
   ]
  },
  {
   "cell_type": "markdown",
   "metadata": {},
   "source": [
    "## 二进制文件读写"
   ]
  },
  {
   "cell_type": "markdown",
   "metadata": {},
   "source": [
    "二进制文件的读写单位是字节，不需要考虑编码的问题。二进制文件读写主要方法:\n",
    "\n",
    "read(size=-1):从文件读取并返回一行，size限制读取的字节数，size=-1时没有限制。\n",
    "\n",
    "readline(size=-1):从文件中读取并返回一行数据，size限制读取的行数，size=-1时没有限制。\n",
    "\n",
    "readlines(hint=-1):读取文件数据到一个列表中，每一行数据是列表的一个元素，hint是限制读取的行数，hint=-1时没有限制。\n",
    "\n",
    "write(b):写入b字节，并返回写入的字节数\n",
    "\n",
    "writelines(lines): 向文件中写入一个列表，不添加行分隔符，因此通常为每一行末尾提供分隔符。\n",
    "\n",
    "flush():刷新写缓冲区，数据会写入到文件中。"
   ]
  },
  {
   "cell_type": "code",
   "execution_count": 4,
   "metadata": {},
   "outputs": [
    {
     "name": "stdout",
     "output_type": "stream",
     "text": [
      "文件复制成功\n"
     ]
    }
   ],
   "source": [
    "f_name = \"imgs/timg.jpg\"\n",
    "with open(f_name,\"rb\") as f:\n",
    "    b = f.read()\n",
    "    copy_f_name = \"imgs/copy.jpg\"\n",
    "    with open(copy_f_name,\"wb\") as copy_f:\n",
    "        copy_f.write(b)\n",
    "        print(\"文件复制成功\")"
   ]
  },
  {
   "cell_type": "markdown",
   "metadata": {},
   "source": [
    "# os 模块"
   ]
  },
  {
   "cell_type": "markdown",
   "metadata": {},
   "source": [
    "Python对文件的操作是通过文件对象实现的，文件对象时属于Python 的os模块。\n",
    "\n",
    "os.rename(src,dst):修改文件名，src是源文件，dst是目标文件\n",
    "\n",
    "os.remove(path):删除path所指定的文件，如果path是目录，则会引发OSError。\n",
    "\n",
    "os.mkdir(path):创建path所指定的目录，如果目录已经存在，则会引发FileExistsError\n",
    "\n",
    "os.rmdir(path):删除path所指定的目录，如果目录为空，则会引发OSError。\n",
    "\n",
    "os.walk(top):遍历top所指定的目录树，自顶向下遍历目录树，返回值是一个三元组\n",
    "\n",
    "os.listdir(dir):列出指定目录中的文件和子目录。\n",
    "\n",
    "常用属性有以下两种：os.curdir属性：获得当前目录；os.pardir属性：获得当前父目录。"
   ]
  },
  {
   "cell_type": "code",
   "execution_count": 5,
   "metadata": {},
   "outputs": [
    {
     "name": "stdout",
     "output_type": "stream",
     "text": [
      "['.ipynb_checkpoints', 'copy2.txt', 'imgs', 'logging 日志模块.ipynb', 'test.txt', '函数式编程.ipynb', '数据结构.ipynb', '文件操作与管理.ipynb', '正则表达式.ipynb', '面向对象编程.ipynb']\n",
      "['.android', '.BigNox', '.idlerc', '.ipynb_checkpoints', '.ipython', '.jupyter', '.keras', '.kivy', '.matplotlib', '.pynche', '123.log', 'AppData', 'Application Data', 'Contacts', 'Cookies', 'inittk.ini', 'inst.ini', 'IntelGraphicsProfiles', 'JuPyter', 'Links', 'Local Settings', 'My Documents', 'NetHood', 'NewNox', 'Nox_share', 'NTUSER.DAT', 'ntuser.dat.LOG1', 'ntuser.dat.LOG2', 'NTUSER.DAT{b163567f-af4b-11e6-8895-d77619fd6c5d}.TM.blf', 'NTUSER.DAT{b163567f-af4b-11e6-8895-d77619fd6c5d}.TMContainer00000000000000000001.regtrans-ms', 'NTUSER.DAT{b163567f-af4b-11e6-8895-d77619fd6c5d}.TMContainer00000000000000000002.regtrans-ms', 'ntuser.ini', 'ntuser.pol', 'nuuid.ini', 'OneDrive', 'Oracle', 'PrintHood', 'Python 复习笔记', 'Python 核心编程', 'Python数据结构', 'Recent', 'Saved Games', 'Searches', 'SendTo', 'temp.log', 'Templates', '「開始」功能表']\n",
      "('.', ['.ipynb_checkpoints', 'imgs', 'subdir'], ['copy2.txt', 'logging 日志模块.ipynb', 'test.txt', '函数式编程.ipynb', '数据结构.ipynb', '文件操作与管理.ipynb', '正则表达式.ipynb', '面向对象编程.ipynb'])\n",
      "('.\\\\.ipynb_checkpoints', [], ['logging 日志模块-checkpoint.ipynb', '函数式编程-checkpoint.ipynb', '数据结构-checkpoint.ipynb', '文件操作与管理-checkpoint.ipynb', '正则表达式-checkpoint.ipynb', '面向对象编程-checkpoint.ipynb'])\n",
      "('.\\\\imgs', [], ['copy.jpg', 'timg.jpg'])\n",
      "('.\\\\subdir', [], [])\n"
     ]
    }
   ],
   "source": [
    "import os\n",
    "\n",
    "f_name = \"test.txt\"\n",
    "copy_f_name = \"copy.txt\"\n",
    "\n",
    "with open(f_name,\"r\") as f:\n",
    "    b = f.read()\n",
    "    with open(copy_f_name,\"w\") as copy_f:\n",
    "        copy_f.write(b)\n",
    "        \n",
    "try:\n",
    "    os.rename(copy_f_name,\"copy2.txt\")\n",
    "except OSError:\n",
    "    os.remove(\"copy2.txt\")\n",
    "    \n",
    "print(os.listdir(os.curdir))\n",
    "print(os.listdir(os.pardir))\n",
    "\n",
    "try:\n",
    "    os.mkdir(\"subdir\")\n",
    "except OSError:\n",
    "    os.rmdir(\"subdir\")\n",
    "    \n",
    "for item in os.walk(\".\"):\n",
    "    print(item)"
   ]
  },
  {
   "cell_type": "markdown",
   "metadata": {},
   "source": [
    "# os.path 模块"
   ]
  },
  {
   "cell_type": "markdown",
   "metadata": {},
   "source": [
    "Python 提供的os.path模块提供对路径、目录和文件等进行管理的函数。\n",
    "\n",
    "os.path.abspath(path):返回path的绝对路径\n",
    "\n",
    "os.path.basename(path):返回path路径的基础名部分，如果path指向的是一个文件，则返回文件名；如果path指向的是一个目录，则返回最后目录名\n",
    "\n",
    "os.path.dirname(path):返回path路径中目录部分\n",
    "\n",
    "os.path.exists(path):判断path文件是否存在\n",
    "\n",
    "os.path.isfile(path):如果path是文件，则返回True\n",
    "\n",
    "os.path.isdir(path):如果path是目录，则返回True\n",
    "\n",
    "os.path.getatime(path):返回最后一次的访问时间\n",
    "\n",
    "os.path.getmtime(path):返回最后一次修改时间\n",
    "\n",
    "os.path.getctime(path):返回创建时间\n",
    "\n",
    "os.path.getsize(path):返回文件大小以字节为单位"
   ]
  },
  {
   "cell_type": "code",
   "execution_count": 6,
   "metadata": {},
   "outputs": [
    {
     "name": "stdout",
     "output_type": "stream",
     "text": [
      "timg.jpg\n",
      "imgs\n",
      "C:\\Users\\jacky_yin\\Python 复习笔记\\test.txt\n",
      "24\n",
      "2020-01-09 10:09:50.942745\n",
      "2020-01-09 10:09:50.942745\n",
      "2020-01-09 15:33:42.868504\n"
     ]
    }
   ],
   "source": [
    "import os.path\n",
    "\n",
    "from datetime import datetime\n",
    "\n",
    "f_name = \"test.txt\"\n",
    "af_name = r\"imgs/timg.jpg\"\n",
    "\n",
    "basename = os.path.basename(af_name)\n",
    "print(basename)\n",
    "\n",
    "dirname = os.path.dirname(af_name)\n",
    "print(dirname)\n",
    "\n",
    "print(os.path.abspath(f_name))\n",
    "\n",
    "print(os.path.getsize(f_name))\n",
    "\n",
    "atime = datetime.fromtimestamp(os.path.getatime(f_name))\n",
    "print(atime)\n",
    "\n",
    "ctime = datetime.fromtimestamp(os.path.getctime(f_name))\n",
    "print(ctime)\n",
    "\n",
    "mtime = datetime.fromtimestamp(os.path.getmtime(f_name))\n",
    "print(mtime)\n"
   ]
  },
  {
   "cell_type": "code",
   "execution_count": 7,
   "metadata": {},
   "outputs": [
    {
     "name": "stdout",
     "output_type": "stream",
     "text": [
      "True\n",
      "True\n",
      "False\n",
      "False\n",
      "True\n"
     ]
    }
   ],
   "source": [
    "print(os.path.isfile(f_name))\n",
    "print(os.path.isdir(dirname))\n",
    "print(os.path.isfile(dirname))\n",
    "print(os.path.isdir(f_name))\n",
    "print(os.path.exists(f_name))"
   ]
  },
  {
   "cell_type": "code",
   "execution_count": null,
   "metadata": {},
   "outputs": [],
   "source": []
  }
 ],
 "metadata": {
  "kernelspec": {
   "display_name": "Python 3",
   "language": "python",
   "name": "python3"
  },
  "language_info": {
   "codemirror_mode": {
    "name": "ipython",
    "version": 3
   },
   "file_extension": ".py",
   "mimetype": "text/x-python",
   "name": "python",
   "nbconvert_exporter": "python",
   "pygments_lexer": "ipython3",
   "version": "3.6.3"
  }
 },
 "nbformat": 4,
 "nbformat_minor": 2
}
