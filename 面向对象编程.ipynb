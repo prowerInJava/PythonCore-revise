{
 "cells": [
  {
   "cell_type": "markdown",
   "metadata": {},
   "source": [
    "# 面向对象编程 Object Oriented Programming ,OOP"
   ]
  },
  {
   "cell_type": "markdown",
   "metadata": {},
   "source": [
    "面向对象思想是按照真实世界客观事物的自然规律进行分析，客观世界中存在什么样的实体，构建的软件系统就存在什么样的实体。"
   ]
  },
  {
   "cell_type": "markdown",
   "metadata": {},
   "source": [
    "## 面向对象三个基本特性"
   ]
  },
  {
   "cell_type": "markdown",
   "metadata": {},
   "source": [
    "### 封装性"
   ]
  },
  {
   "cell_type": "markdown",
   "metadata": {},
   "source": [
    "面向对象的封装与真实世界的目的是一样的。封装能够使外部访问者不能随意存取对象的内部数据，隐藏了对象的内部细节，只保留有限的对外接口。外部访问者不用关心对象的内部细节，操作对象变得简单。"
   ]
  },
  {
   "cell_type": "markdown",
   "metadata": {},
   "source": [
    "### 继承性"
   ]
  },
  {
   "cell_type": "markdown",
   "metadata": {},
   "source": [
    "在面向对象中，轮船是一般类，客轮是特殊类，特殊类拥有一般类的全部数据和操作，称为特殊类继承一般类。一般类称为父类或超类，特殊类称为子类或者派生类。"
   ]
  },
  {
   "cell_type": "markdown",
   "metadata": {},
   "source": [
    "### 多态性"
   ]
  },
  {
   "cell_type": "markdown",
   "metadata": {},
   "source": [
    "多态性是指父类中成员被子类继承之后，可以具有不同的状态或表现行为"
   ]
  },
  {
   "cell_type": "markdown",
   "metadata": {},
   "source": [
    "## 类和对象"
   ]
  },
  {
   "cell_type": "markdown",
   "metadata": {},
   "source": [
    "python中的数据类型都是类，类是组成Python程序的基本要素，它封装了一类对象的数据操作。"
   ]
  },
  {
   "cell_type": "markdown",
   "metadata": {},
   "source": [
    "### 定义类"
   ]
  },
  {
   "cell_type": "markdown",
   "metadata": {},
   "source": [
    "class 类名[(父类)]:\n",
    "\n",
    "       类体\n",
    "       \n",
    "class 是声明类的关键字，类名采用大驼峰法命名"
   ]
  },
  {
   "cell_type": "code",
   "execution_count": 6,
   "metadata": {},
   "outputs": [
    {
     "name": "stdout",
     "output_type": "stream",
     "text": [
      "2\n"
     ]
    }
   ],
   "source": [
    "class Animal (object):\n",
    "    def __init__(self,age,sex,weight):\n",
    "        self.age = age #实例变量\n",
    "        self.sex = sex\n",
    "        self.weight = weight\n",
    "        \n",
    "animal = Animal(2,1,10.0)\n",
    "print(animal.age)"
   ]
  },
  {
   "cell_type": "markdown",
   "metadata": {},
   "source": [
    "在类体中可以包含类的成员，其中包括成员变量、成员方法、和属性，成员变量又分为实例变量和类变量，成员方法又分为实例方法、类方法和静态方法。"
   ]
  },
  {
   "cell_type": "code",
   "execution_count": 9,
   "metadata": {},
   "outputs": [],
   "source": [
    "class Account:\n",
    "    interest_rate = 0.0668  #类变量\n",
    "    def __init__(self):   #构造方法\n",
    "        pass"
   ]
  },
  {
   "cell_type": "code",
   "execution_count": 8,
   "metadata": {},
   "outputs": [
    {
     "name": "stdout",
     "output_type": "stream",
     "text": [
      "0.0668\n"
     ]
    }
   ],
   "source": [
    "account = Account()\n",
    "print (Account.interest_rate)"
   ]
  },
  {
   "cell_type": "code",
   "execution_count": 11,
   "metadata": {},
   "outputs": [],
   "source": [
    "class Animal(object):\n",
    "    def __init__(self,age,sex = 1,weight = 0.0):\n",
    "        self.age = age\n",
    "        self.sex = sex\n",
    "        self.weight = weight\n",
    "        \n",
    "    def eat(self): #实例方法\n",
    "        self.weight += 0.05\n",
    "        print(\"eat ...\")"
   ]
  },
  {
   "cell_type": "markdown",
   "metadata": {},
   "source": [
    "类方法：定义类方法有两个关键，第一，方法第一个参数是cls 是type类型，是当前类的实例；第二，方法使用装饰器 @classmethod声明的方法是类方法。\n",
    "\n",
    "类方法可以访问其他类变量和其他方法，但不能访问其他实例方法和实例变量\n",
    "\n",
    "静态方法：如果定义的方法即不想与实例绑定，也不想与类绑定，只是想把类作为它的命名空间，那么可以定义静态方法。使用@statismethod 装饰器\n",
    "\n",
    "类方法和静态方法在很多场景是相似的，只是在定义时有一些区别。类方法需要绑定类。"
   ]
  },
  {
   "cell_type": "code",
   "execution_count": 14,
   "metadata": {},
   "outputs": [
    {
     "name": "stdout",
     "output_type": "stream",
     "text": [
      "801.6 801.6\n"
     ]
    }
   ],
   "source": [
    "class Account:\n",
    "    interest_rate = 0.0668\n",
    "    \n",
    "    def __init__(self,owner,amount):\n",
    "        self.owner = owner\n",
    "        self.amount = amount\n",
    "        \n",
    "    @classmethod \n",
    "    def interest_by(cls,amt):  #类方法\n",
    "        return cls.interest_rate * amt\n",
    "    \n",
    "    @staticmethod\n",
    "    def interest_with(amt):   #静态方法\n",
    "        return Account.interest_by(amt)\n",
    "interest = Account.interest_by(12_000.0)\n",
    "interest1 = Account.interest_with(12_000.0)\n",
    "print (interest,interest1)\n"
   ]
  },
  {
   "cell_type": "markdown",
   "metadata": {},
   "source": [
    "## 封装性 "
   ]
  },
  {
   "cell_type": "markdown",
   "metadata": {},
   "source": [
    "Python 的封装性都是靠程序员的自律，而非强制性的语法"
   ]
  },
  {
   "cell_type": "markdown",
   "metadata": {},
   "source": [
    "### 私有变量"
   ]
  },
  {
   "cell_type": "markdown",
   "metadata": {},
   "source": [
    "默认情况下Python 中的变量都是公有的，可以在类的外部访问它们。如果想让它们变成私有变量可以在变量前加上__ 双下画线。"
   ]
  },
  {
   "cell_type": "markdown",
   "metadata": {},
   "source": [
    "### 私有方法"
   ]
  },
  {
   "cell_type": "markdown",
   "metadata": {},
   "source": [
    "同私有变量同样的定义方式"
   ]
  },
  {
   "cell_type": "markdown",
   "metadata": {},
   "source": [
    "### 定义属性"
   ]
  },
  {
   "cell_type": "markdown",
   "metadata": {},
   "source": [
    "封装通常是对成员变量进行封装。在严格意义上的面向对象设计中，一个类是不应该有公有的实例成员变量的，这些实例成员变量应该被设计为私有的，然后通过公共的setter 和 getter 访问器访问。"
   ]
  },
  {
   "cell_type": "markdown",
   "metadata": {},
   "source": [
    "Python 中提供了属性property，定义属性可以使用@property 和 @属性名.setter装饰器。\n",
    "\n",
    "定义属性的时候应该先定义getter访问器，再定义setter访问器"
   ]
  },
  {
   "cell_type": "code",
   "execution_count": 17,
   "metadata": {},
   "outputs": [
    {
     "name": "stdout",
     "output_type": "stream",
     "text": [
      "3.9\n",
      "123.34\n"
     ]
    }
   ],
   "source": [
    "class Animal(object):\n",
    "    def __init__(self,age,sex,weight):\n",
    "        self.age = age\n",
    "        self.sex = sex\n",
    "        self.__weight = weight  #__weight 是私有变量\n",
    "        \n",
    "    @property   \n",
    "    def weight(self):   #getter 方法\n",
    "        return self.__weight\n",
    "    @weight.setter\n",
    "    def weight(self,weight): #setter 方法\n",
    "        self.__weight = weight\n",
    "        \n",
    "a = Animal(1,1,3.9)\n",
    "print(a.weight)\n",
    "\n",
    "a.weight = 123.34\n",
    "print(a.weight)"
   ]
  },
  {
   "cell_type": "markdown",
   "metadata": {},
   "source": [
    "## 继承性 "
   ]
  },
  {
   "cell_type": "markdown",
   "metadata": {},
   "source": [
    "类的继承性是面向对象语言的基本特性，多态性的前提是继承性"
   ]
  },
  {
   "cell_type": "code",
   "execution_count": 18,
   "metadata": {},
   "outputs": [],
   "source": [
    "class Person:\n",
    "    def __init__(self,name,age):\n",
    "        self.name = name\n",
    "        self.age = age\n",
    "    def info(self):\n",
    "        template = 'Person [name={0},age={1}]'\n",
    "        s = template.format(self.name,self.age)\n",
    "        return s\n",
    "    \n",
    "class Student(Person): #继承，多继承只需用逗号隔开父类名\n",
    "    def __init__(self,name,age,school):\n",
    "        super().__init__(name,age) #调用父类的构造方法 super()函数返回一个父类引用\n",
    "        self.school = school\n",
    "        \n",
    "    def info(self): #重写父类的方法override\n",
    "        pass"
   ]
  },
  {
   "cell_type": "markdown",
   "metadata": {},
   "source": [
    "## 多态性"
   ]
  },
  {
   "cell_type": "markdown",
   "metadata": {},
   "source": [
    "发生多态要有两个前提条件: 第一、继承---多态发生一定是在子类和父类之间；第二、重写----子类重写了父类方法"
   ]
  },
  {
   "cell_type": "markdown",
   "metadata": {},
   "source": [
    "## 类型检查"
   ]
  },
  {
   "cell_type": "markdown",
   "metadata": {},
   "source": [
    "使用isinstance(object,classinfo) 返回值是布尔类型，检查实例是否是classinfo类的实例"
   ]
  },
  {
   "cell_type": "markdown",
   "metadata": {},
   "source": [
    "使用issubclass(子类，父类) 返回值是布尔类型，检查子类是否是继承父类"
   ]
  },
  {
   "cell_type": "markdown",
   "metadata": {},
   "source": [
    "# Python根类----object"
   ]
  },
  {
   "cell_type": "code",
   "execution_count": 22,
   "metadata": {},
   "outputs": [],
   "source": [
    "#Python 所有类都是直接或间接继承自object类的，它是所有类的祖先\n",
    "\n",
    "#  __str__():返回该对象的字符串表示\n",
    "#  __eq__(other):指示其他某个对象是否与此对象“相等”\n",
    "# 需要重写实现自己想要的功能"
   ]
  },
  {
   "cell_type": "markdown",
   "metadata": {},
   "source": [
    "# 枚举类"
   ]
  },
  {
   "cell_type": "markdown",
   "metadata": {},
   "source": [
    "class 枚举类名 (enum.Enum):\n",
    "\n",
    "        枚举常量列表"
   ]
  },
  {
   "cell_type": "code",
   "execution_count": 23,
   "metadata": {},
   "outputs": [
    {
     "name": "stdout",
     "output_type": "stream",
     "text": [
      "WeekDays.FRIDAY\n",
      "5\n",
      "FRIDAY\n"
     ]
    }
   ],
   "source": [
    "# -*- coding:utf-8 -*-\n",
    "import enum\n",
    "\n",
    "class WeekDays(enum.Enum):\n",
    "    MONDAY = 1\n",
    "    TUESDAY = 2\n",
    "    WEDNESDAY = 3\n",
    "    THURSDAY = 4\n",
    "    FRIDAY = 5\n",
    "    \n",
    "day = WeekDays.FRIDAY\n",
    "\n",
    "print(day)\n",
    "print(day.value)\n",
    "print(day.name)"
   ]
  },
  {
   "cell_type": "code",
   "execution_count": 24,
   "metadata": {},
   "outputs": [
    {
     "name": "stdout",
     "output_type": "stream",
     "text": [
      "WeekDays.FRIDAY\n",
      "5\n",
      "FRIDAY\n"
     ]
    }
   ],
   "source": [
    "#限制枚举类\n",
    "import enum\n",
    "\n",
    "@enum.unique   \n",
    "class WeekDays(enum.Enum): #限制枚举值不可外部修改使用unique，限制为int类型，需要继承enum.IntEnum 即可\n",
    "    \n",
    "    MONDAY = 1\n",
    "    TUESDAY = 2\n",
    "    WEDNESDAY = 3\n",
    "    THURSDAY = 4\n",
    "    FRIDAY = 5\n",
    "    \n",
    "day = WeekDays.FRIDAY\n",
    "\n",
    "print(day)\n",
    "print(day.value)\n",
    "print(day.name)"
   ]
  },
  {
   "cell_type": "code",
   "execution_count": null,
   "metadata": {},
   "outputs": [],
   "source": []
  }
 ],
 "metadata": {
  "kernelspec": {
   "display_name": "Python 3",
   "language": "python",
   "name": "python3"
  },
  "language_info": {
   "codemirror_mode": {
    "name": "ipython",
    "version": 3
   },
   "file_extension": ".py",
   "mimetype": "text/x-python",
   "name": "python",
   "nbconvert_exporter": "python",
   "pygments_lexer": "ipython3",
   "version": "3.6.3"
  }
 },
 "nbformat": 4,
 "nbformat_minor": 2
}
