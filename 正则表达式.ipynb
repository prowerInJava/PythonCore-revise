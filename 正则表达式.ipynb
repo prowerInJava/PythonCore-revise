{
 "cells": [
  {
   "cell_type": "markdown",
   "metadata": {},
   "source": [
    "# 正则表达式（Regular Expression）"
   ]
  },
  {
   "cell_type": "code",
   "execution_count": 1,
   "metadata": {},
   "outputs": [
    {
     "name": "stdout",
     "output_type": "stream",
     "text": [
      "<_sre.SRE_Match object; span=(16, 42), match='tony_guan@zhijieketang.com'>\n",
      "None\n"
     ]
    }
   ],
   "source": [
    "#conding=utf-8\n",
    "import re\n",
    "\n",
    "p1 = r\"\\w+@zhijieketang\\.com\"\n",
    "p2 = r\"^\\w+@zhijieketang\\.com$\"  # ^匹配一行的开始  $匹配一行的结束\n",
    "\n",
    "text = \"Tony's email is tony_guan@zhijieketang.com.\"\n",
    "m = re.search(p1,text)\n",
    "print(m)\n",
    "m1 = re.search(p2,text)\n",
    "print(m1)"
   ]
  },
  {
   "cell_type": "code",
   "execution_count": 2,
   "metadata": {},
   "outputs": [
    {
     "name": "stdout",
     "output_type": "stream",
     "text": [
      "<_sre.SRE_Match object; span=(0, 26), match='tony_guan@zhijieketang.com'>\n",
      "<_sre.SRE_Match object; span=(0, 26), match='tony_guan@zhijieketang.com'>\n"
     ]
    }
   ],
   "source": [
    "email = \"tony_guan@zhijieketang.com\"\n",
    "m = re.search(p1,email)\n",
    "print(m)\n",
    "m1 = re.search(p2,email)\n",
    "print(m1)"
   ]
  },
  {
   "cell_type": "code",
   "execution_count": 3,
   "metadata": {},
   "outputs": [
    {
     "name": "stdout",
     "output_type": "stream",
     "text": [
      "<_sre.SRE_Match object; span=(7, 11), match='Java'>\n",
      "None\n",
      "<_sre.SRE_Match object; span=(7, 11), match='java'>\n"
     ]
    }
   ],
   "source": [
    "p = r\"[Jj]ava\"  #匹配字符串中的Java 或 java\n",
    "m = re.search(p,\"I love Java and Python\")\n",
    "print(m)\n",
    "m = re.search(p,\"I love jAVA and Python\")\n",
    "print(m)\n",
    "m = re.search(p,\"I love java and Python\")\n",
    "print(m)"
   ]
  },
  {
   "cell_type": "code",
   "execution_count": 4,
   "metadata": {},
   "outputs": [
    {
     "name": "stdout",
     "output_type": "stream",
     "text": [
      "None\n",
      "<_sre.SRE_Match object; span=(0, 1), match='P'>\n"
     ]
    }
   ],
   "source": [
    "p = r\"[^0123456789]\"  #表示输入的字符串中输入的非0到9的数字才能匹配\n",
    "m = re.search(p,\"1000\")\n",
    "print(m)\n",
    "\n",
    "m = re.search(p,\"Python 1000\")#匹配任意非数字的字符\n",
    "print(m)"
   ]
  },
  {
   "cell_type": "code",
   "execution_count": 5,
   "metadata": {},
   "outputs": [
    {
     "name": "stdout",
     "output_type": "stream",
     "text": [
      "<_sre.SRE_Match object; span=(0, 1), match='A'>\n",
      "None\n",
      "<_sre.SRE_Match object; span=(3, 4), match='6'>\n"
     ]
    }
   ],
   "source": [
    "#区间[0123456789] 可以使用区间[0-9]代替，[^0123456789]可以使用[^0-9]代替\n",
    "m = re.search(r\"[A-Aa-z0-9]\",'A10.3')\n",
    "print (m)\n",
    "m = re.search(r\"[0-25-7]\",'A3489C') #匹配012 567\n",
    "print (m)\n",
    "m = re.search(r\"[0-25-7]\",'A3469C') #匹配012 567\n",
    "print (m)"
   ]
  },
  {
   "cell_type": "markdown",
   "metadata": {},
   "source": [
    "## 量词"
   ]
  },
  {
   "cell_type": "markdown",
   "metadata": {},
   "source": [
    "量词表示字符或字符串重复的次数，正则表达式中:\n",
    "\n",
    "? 出现零次或一次\n",
    "\n",
    "\\* 出现零次或多次\n",
    "\n",
    "\\+ 出现一次或多次\n",
    "\n",
    "{n} 出现n次\n",
    "\n",
    "{n,m} 至少出现n次但不超过m次\n",
    "\n",
    "{n,} 至少出现n次"
   ]
  },
  {
   "cell_type": "code",
   "execution_count": 6,
   "metadata": {},
   "outputs": [
    {
     "name": "stdout",
     "output_type": "stream",
     "text": [
      "<_sre.SRE_Match object; span=(0, 1), match='9'>\n"
     ]
    }
   ],
   "source": [
    "m = re.search(r\"\\d?\",\"93824798hfkjshf\") #出现数字一次\n",
    "print(m)"
   ]
  },
  {
   "cell_type": "code",
   "execution_count": 7,
   "metadata": {},
   "outputs": [
    {
     "name": "stdout",
     "output_type": "stream",
     "text": [
      "<_sre.SRE_Match object; span=(0, 0), match=''>\n"
     ]
    }
   ],
   "source": [
    "m = re.search(r\"\\d?\",\"hfkjshf\") #出现数字零次\n",
    "print(m)"
   ]
  },
  {
   "cell_type": "code",
   "execution_count": 8,
   "metadata": {},
   "outputs": [
    {
     "name": "stdout",
     "output_type": "stream",
     "text": [
      "<_sre.SRE_Match object; span=(0, 8), match='93824798'>\n"
     ]
    }
   ],
   "source": [
    "m = re.search(r\"\\d*\",\"93824798hfkjshf\") #出现数字多次\n",
    "print(m)"
   ]
  },
  {
   "cell_type": "code",
   "execution_count": 9,
   "metadata": {},
   "outputs": [
    {
     "name": "stdout",
     "output_type": "stream",
     "text": [
      "<_sre.SRE_Match object; span=(0, 0), match=''>\n"
     ]
    }
   ],
   "source": [
    "m = re.search(r\"\\d*\",\"hfkjshf\") #出现数字零次\n",
    "print(m)"
   ]
  },
  {
   "cell_type": "code",
   "execution_count": 10,
   "metadata": {},
   "outputs": [
    {
     "name": "stdout",
     "output_type": "stream",
     "text": [
      "<_sre.SRE_Match object; span=(0, 16), match='3294879583759358'>\n"
     ]
    }
   ],
   "source": [
    "m = re.search(r\"\\d+\",\"3294879583759358fdhksfjh\") #出现数字多次\n",
    "print(m)"
   ]
  },
  {
   "cell_type": "code",
   "execution_count": 11,
   "metadata": {},
   "outputs": [
    {
     "name": "stdout",
     "output_type": "stream",
     "text": [
      "None\n"
     ]
    }
   ],
   "source": [
    "m = re.search(r\"\\d+\",\"hksfjh\") #出现数字多次\n",
    "print(m)"
   ]
  },
  {
   "cell_type": "code",
   "execution_count": 12,
   "metadata": {},
   "outputs": [
    {
     "name": "stdout",
     "output_type": "stream",
     "text": [
      "<_sre.SRE_Match object; span=(11, 19), match='95837593'>\n"
     ]
    }
   ],
   "source": [
    "m = re.search(r\"\\d{8}\",\"329487fdjhf9583759358hksfjh\") #出现数字8次\n",
    "print(m)"
   ]
  },
  {
   "cell_type": "code",
   "execution_count": 13,
   "metadata": {},
   "outputs": [
    {
     "name": "stdout",
     "output_type": "stream",
     "text": [
      "<_sre.SRE_Match object; span=(11, 21), match='9583759358'>\n"
     ]
    }
   ],
   "source": [
    "m = re.search(r\"\\d{8,}\",\"329487fdjhf9583759358hksfjh\") #出现数字至少8次\n",
    "print(m)"
   ]
  },
  {
   "cell_type": "markdown",
   "metadata": {},
   "source": [
    "## 贪婪量词和懒惰量词"
   ]
  },
  {
   "cell_type": "markdown",
   "metadata": {},
   "source": [
    "贪婪量词会尽可能多地匹配字符，懒惰量词会尽可能少地匹配字符\n",
    "\n",
    "大多数计算机语言的正则表达式量词默认是贪婪的，要想使用懒惰量词在量词后面加\"?\"即可。"
   ]
  },
  {
   "cell_type": "code",
   "execution_count": 14,
   "metadata": {},
   "outputs": [
    {
     "name": "stdout",
     "output_type": "stream",
     "text": [
      "<_sre.SRE_Match object; span=(2, 10), match='89445788'>\n",
      "<_sre.SRE_Match object; span=(2, 7), match='89445'>\n"
     ]
    }
   ],
   "source": [
    "m = re.search(r\"\\d{5,8}\",'yj8944578888kkkr38534573457') #匹配数字8次 贪婪\n",
    "print(m)\n",
    "m = re.search(r\"\\d{5,8}?\",'yj8944578888kkkr38534573457') #匹配数字5次 懒惰\n",
    "print(m)"
   ]
  },
  {
   "cell_type": "markdown",
   "metadata": {},
   "source": [
    "## 分组"
   ]
  },
  {
   "cell_type": "markdown",
   "metadata": {},
   "source": [
    "对正则表达式进行分组不仅可以对一个字符串整体使用量词，还可以在正则表达式中引用已经存在的分组."
   ]
  },
  {
   "cell_type": "code",
   "execution_count": 15,
   "metadata": {},
   "outputs": [
    {
     "name": "stdout",
     "output_type": "stream",
     "text": [
      "<_sre.SRE_Match object; span=(0, 6), match='121121'>\n",
      "121121\n",
      "121\n"
     ]
    }
   ],
   "source": [
    "p = r\"(121){2}\" #(121)为一组，{2}表示将分组重复两次\n",
    "m = re.search(p,\"121121abcabc\")\n",
    "print(m)\n",
    "print(m.group()) #返回匹配的字符串\n",
    "print(m.group(1)) #获取第一组内容"
   ]
  },
  {
   "cell_type": "code",
   "execution_count": 29,
   "metadata": {},
   "outputs": [
    {
     "name": "stdout",
     "output_type": "stream",
     "text": [
      "<_sre.SRE_Match object; span=(0, 13), match='010-476542347'>\n",
      "010-476542347\n",
      "('010', '476542347')\n"
     ]
    }
   ],
   "source": [
    "p=r\"(\\d{3,4})-(\\d{7,9})\"  #匹配电话号码形式 横杠前一组为3到4位的数字，后面为一组7到8位的数字\n",
    "m=re.search(p,'010-476542347')\n",
    "print(m)\n",
    "print(m.group())\n",
    "print(m.groups())"
   ]
  },
  {
   "cell_type": "code",
   "execution_count": null,
   "metadata": {},
   "outputs": [],
   "source": [
    "p = r\"(?P<area_code>\\d{3,4})-(?P<phone_code>\\d{7,8})\" #使用?P<...>将分组命名\n",
    "m = re.search(p,\"021-82763351\")\n",
    "print(m)\n",
    "print(m.group(\"area_code\"))\n",
    "print(m.group(\"phone_code\"))"
   ]
  },
  {
   "cell_type": "code",
   "execution_count": null,
   "metadata": {},
   "outputs": [],
   "source": [
    "p = r\"<([\\w])>.*</(\\w)+>\"\n",
    "m = re.search(p,\"<a>abc</a>\")\n",
    "print(m)\n",
    "m = re.search(p,\"<a>abc</b>\")#这个标签在xml中其实是不符合的，但这里的正则还是匹配上了\n",
    "print(m)"
   ]
  },
  {
   "cell_type": "code",
   "execution_count": null,
   "metadata": {},
   "outputs": [],
   "source": [
    "p = r\"<([\\w]+)>.*</\\1>\"  #\\1 表示反向引用第一个组([\\w]+)\n",
    "m = re.search(p,\"<a>abc</a>\")\n",
    "print(m)\n",
    "m = re.search(p,\"<a>abc</b>\")\n",
    "print(m)"
   ]
  },
  {
   "cell_type": "code",
   "execution_count": null,
   "metadata": {},
   "outputs": [],
   "source": [
    "s = \"img1.jpg,img2.jpg,img3.bmp\"\n",
    "p = r\"\\w+(\\.jpg)\"#捕获分组\n",
    "mlist = re.findall(p,s) \n",
    "print(mlist)"
   ]
  },
  {
   "cell_type": "code",
   "execution_count": null,
   "metadata": {},
   "outputs": [],
   "source": [
    "p = r\"\\w+(?:\\.jpg)\"#非捕获分组\n",
    "mlist = re.findall(p,s) \n",
    "print(mlist)"
   ]
  },
  {
   "cell_type": "markdown",
   "metadata": {},
   "source": [
    "## re模块"
   ]
  },
  {
   "cell_type": "markdown",
   "metadata": {},
   "source": [
    "re是Python内置的正则表达式模块\n",
    "\n",
    "search() 和match()函数\n",
    "\n",
    "findall() 和 finditer()函数\n",
    "\n",
    "split() 字符串分割函数\n",
    "\n",
    "sub() 字符串替换函数"
   ]
  },
  {
   "cell_type": "code",
   "execution_count": null,
   "metadata": {},
   "outputs": [],
   "source": [
    "import re\n",
    "\n",
    "p = r\"\\w+@zhijieketang\\.com\"\n",
    "\n",
    "text = \"Tony's email is tony_guan588@zhijieketang.com.\"\n",
    "\n",
    "m = re.search(p,text)#在字符串中查找\n",
    "print(m)\n",
    "\n",
    "m = re.match(p,text) #从字符串开始处开始匹配\n",
    "print(m)\n",
    "\n",
    "email = \"tony_guan588@zhijieketang.com.\"\n",
    "m = re.search(p,email)#在字符串中查找\n",
    "print(m)\n",
    "\n",
    "m = re.match(p,email) #从字符串开始处开始匹配\n",
    "print(m)\n",
    "print(\"match 对象的方法\")\n",
    "print(m.group())\n",
    "print(m.start())\n",
    "print(m.end())\n",
    "print(m.span())"
   ]
  },
  {
   "cell_type": "code",
   "execution_count": null,
   "metadata": {},
   "outputs": [],
   "source": [
    "p = r\"[Jj]ava\"\n",
    "text = \"I like Java and Python\"\n",
    "match_list = re.findall(p,text) #返回match对象列表\n",
    "print(match_list[0]) \n",
    "\n",
    "match_iter = re.finditer(p,text) #返回可迭代对象\n",
    "for i in match_iter:\n",
    "    print(i.group())"
   ]
  },
  {
   "cell_type": "code",
   "execution_count": null,
   "metadata": {},
   "outputs": [],
   "source": [
    "p = r\"\\d+\"\n",
    "text = 'ABCD123CF34EF123TH'\n",
    "clist = re.split(p,text)  #根据正则表达式，按照匹配多个数字进行字符串分割出所有字符，maxsplit和flags 为默认0\n",
    "print(clist)\n",
    "clist = re.split(p,text,maxsplit=1)#根据正则表达式，按照匹配多个数字进行字符串分割，maxsplit=1 flags 为默认\n",
    "print(clist)\n",
    "clist = re.split(p,text,maxsplit=2)#根据正则表达式，按照匹配多个数字进行字符串分割，maxsplit=2 flags 为默认\n",
    "print(clist)"
   ]
  },
  {
   "cell_type": "code",
   "execution_count": null,
   "metadata": {},
   "outputs": [],
   "source": [
    "p = r\"\\d+\"\n",
    "text = 'ABCD123CF34EF123TH'\n",
    "replace_text = re.sub(p,'-',text) #将匹配到的数字串用-替代\n",
    "print(replace_text)\n",
    "replace_text = re.sub(p,'-',text,count=1) #将匹配到的数字串用-替代,count = 1 表示只替换第一个匹配\n",
    "print(replace_text)\n",
    "replace_text = re.sub(p,'-',text,count=2) #将匹配到的数字串用-替代,count = 2 表示只替换两个匹配\n",
    "print(replace_text)"
   ]
  },
  {
   "cell_type": "markdown",
   "metadata": {},
   "source": [
    "## 编译正则表达式"
   ]
  },
  {
   "cell_type": "markdown",
   "metadata": {},
   "source": [
    "compile() 函数可以编译正则表达式，re.compile(pattern[,flags=0])\n",
    "\n",
    "pattern是正则表达式，flags是编译标志"
   ]
  },
  {
   "cell_type": "markdown",
   "metadata": {},
   "source": [
    "正则表达式需要一个已经编译的正则表达式对象才能调用，这些方法与re模块函数功能类似。"
   ]
  },
  {
   "cell_type": "code",
   "execution_count": null,
   "metadata": {},
   "outputs": [],
   "source": [
    "p = r\"\\w+@zhijieketang\\.com\"\n",
    "regex = re.compile(p)\n",
    "text = \"Tony's email is tony_guan588@zhijieketang.com.\"\n",
    "m = regex.search(text)\n",
    "print(m)"
   ]
  },
  {
   "cell_type": "code",
   "execution_count": null,
   "metadata": {},
   "outputs": [],
   "source": [
    "m = regex.match(text)\n",
    "print(m)"
   ]
  },
  {
   "cell_type": "code",
   "execution_count": null,
   "metadata": {},
   "outputs": [],
   "source": [
    "p = r\"[Jj]ava\"\n",
    "regex = re.compile(p)\n",
    "text = \"I like Java and Python\"\n",
    "match_list = regex.findall(text) #返回match对象列表\n",
    "print(match_list[0]) \n",
    "\n",
    "match_iter = regex.finditer(text) #返回可迭代对象\n",
    "for i in match_iter:\n",
    "    print(i.group())"
   ]
  },
  {
   "cell_type": "code",
   "execution_count": null,
   "metadata": {},
   "outputs": [],
   "source": [
    "p = r\"\\d+\"\n",
    "regex = re.compile(p)\n",
    "text = 'ABCD123CF34EF123TH'\n",
    "replace_text = regex.sub('-',text) #将匹配到的数字串用-替代\n",
    "print(replace_text)\n",
    "replace_text = regex.sub('-',text,count=1) #将匹配到的数字串用-替代,count = 1 表示只替换第一个匹配\n",
    "print(replace_text)\n",
    "replace_text = regex.sub('-',text,count=2) #将匹配到的数字串用-替代,count = 2 表示只替换两个匹配\n",
    "print(replace_text)"
   ]
  },
  {
   "cell_type": "markdown",
   "metadata": {},
   "source": [
    "compile()函数还可以编译标志，标志可以改变正则表达式引擎的行为"
   ]
  },
  {
   "cell_type": "code",
   "execution_count": null,
   "metadata": {},
   "outputs": [],
   "source": [
    "text = \"你们好Hello\"\n",
    "\n",
    "p = r\"\\w+\"\n",
    "regex = re.compile(p,re.U)# 标志编译为Unicode编码\n",
    "m = regex.search(text)\n",
    "print(m)\n",
    "m = regex.match(text)\n",
    "print(m)"
   ]
  },
  {
   "cell_type": "code",
   "execution_count": null,
   "metadata": {},
   "outputs": [],
   "source": [
    "text = \"你们好Hello\"\n",
    "\n",
    "p = r\"\\w+\"\n",
    "regex = re.compile(p,re.A) #标志改为ASCII编码\n",
    "m = regex.search(text)\n",
    "print(m)\n",
    "m = regex.match(text)\n",
    "print(m)"
   ]
  },
  {
   "cell_type": "code",
   "execution_count": null,
   "metadata": {},
   "outputs": [],
   "source": [
    "p = r\"(java).*(python)\"\n",
    "regex = re.compile(p,re.I) #编译标志忽略大小写\n",
    "m = regex.search(\"I like Java and Python\")\n",
    "print(m)\n",
    "m = regex.search(\"I like java and Python\")\n",
    "print(m)"
   ]
  },
  {
   "cell_type": "code",
   "execution_count": null,
   "metadata": {},
   "outputs": [],
   "source": [
    "p = r\".+\"\n",
    "regex = re.compile(p)\n",
    "print(regex.search(\"Hello\\nWorld\")) #点元字符可以匹配换行符之外的所有字符"
   ]
  },
  {
   "cell_type": "code",
   "execution_count": null,
   "metadata": {},
   "outputs": [],
   "source": [
    "p = r\".+\"\n",
    "regex = re.compile(p,re.DOTALL) #编译re.DOTALL 让点元字符可以匹配所有字符\n",
    "print(regex.search(\"Hello\\nWorld.\"))"
   ]
  },
  {
   "cell_type": "code",
   "execution_count": null,
   "metadata": {},
   "outputs": [],
   "source": [
    "p = r\"^World\"\n",
    "regex = re.compile(p)\n",
    "print(regex.search(\"Hello\\nWorld\"))"
   ]
  },
  {
   "cell_type": "code",
   "execution_count": null,
   "metadata": {},
   "outputs": [],
   "source": [
    "p = r\"^World\"\n",
    "regex = re.compile(p,re.M) #编译re.M 可以匹配多行的开头字符串为World\n",
    "print(regex.search(\"Hello\\nWorld\")) "
   ]
  },
  {
   "cell_type": "code",
   "execution_count": null,
   "metadata": {},
   "outputs": [],
   "source": [
    "#re.VERBOSE 或 re.X 可以设置详细模式，详细模式可以在正则表达式中添加注释，可以有空格和换行\n",
    "p = \"\"\"(java)\n",
    ".*\n",
    "(python)\"\"\"\n",
    "\n",
    "regex = re.compile(p,re.I | re.VERBOSE)\n",
    "text = \"I like Java and Python\"\n",
    "m = regex.search(text)\n",
    "print(m)"
   ]
  },
  {
   "cell_type": "code",
   "execution_count": null,
   "metadata": {},
   "outputs": [],
   "source": []
  }
 ],
 "metadata": {
  "kernelspec": {
   "display_name": "Python 3",
   "language": "python",
   "name": "python3"
  },
  "language_info": {
   "codemirror_mode": {
    "name": "ipython",
    "version": 3
   },
   "file_extension": ".py",
   "mimetype": "text/x-python",
   "name": "python",
   "nbconvert_exporter": "python",
   "pygments_lexer": "ipython3",
   "version": "3.6.3"
  }
 },
 "nbformat": 4,
 "nbformat_minor": 2
}
