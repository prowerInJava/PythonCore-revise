{
 "cells": [
  {
   "cell_type": "markdown",
   "metadata": {},
   "source": [
    "# 函数式编程"
   ]
  },
  {
   "cell_type": "markdown",
   "metadata": {},
   "source": [
    "python中的函数很灵活，它可以在模块中、但是在类之外定义，即函数，其作用域是当前模块；也可以在别的函数中定义，即嵌套函数；还可以在类中定义，即方法。"
   ]
  },
  {
   "cell_type": "markdown",
   "metadata": {},
   "source": [
    "# 函数定义"
   ]
  },
  {
   "cell_type": "markdown",
   "metadata": {},
   "source": [
    "在python 中定义函数时，关键字是def，函数名需要符合标识符命名规范。多个参数列表之间可以用逗号','分隔，当然函数也可以没有参数。如果函数有返回数据，就需要在函数体最后使用return语句将数据返回；如果没有返回数据，则函数体中可以使用return None或者省略return 语句"
   ]
  },
  {
   "cell_type": "code",
   "execution_count": 1,
   "metadata": {},
   "outputs": [
    {
     "name": "stdout",
     "output_type": "stream",
     "text": [
      "矩形的面积是:60\n"
     ]
    }
   ],
   "source": [
    "#coding = utf-8\n",
    "\n",
    "\n",
    "def rectangle_area(width,height):\n",
    "    area = width*height\n",
    "    return area\n",
    "area1 = rectangle_area(12,5)\n",
    "print(\"矩形的面积是:{0}\".format(area1))"
   ]
  },
  {
   "cell_type": "markdown",
   "metadata": {},
   "source": [
    "# 函数参数"
   ]
  },
  {
   "cell_type": "markdown",
   "metadata": {},
   "source": [
    "Python中调用函数很灵活，具体体现在传递参数有多种形上。"
   ]
  },
  {
   "cell_type": "markdown",
   "metadata": {},
   "source": [
    "使用关键字参数调用函数，为了提高参数调用的可读性，在函数调用时可以使用关键字参数调用。"
   ]
  },
  {
   "cell_type": "code",
   "execution_count": 2,
   "metadata": {},
   "outputs": [
    {
     "name": "stdout",
     "output_type": "stream",
     "text": [
      "60\n",
      "60\n"
     ]
    }
   ],
   "source": [
    "print(rectangle_area(width=12,height=5))\n",
    "print(rectangle_area(12,height=5))"
   ]
  },
  {
   "cell_type": "markdown",
   "metadata": {},
   "source": [
    "参数默认值，在定义函数的时候可以为参数设置一个默认值，调用函数时可以忽略该参数。"
   ]
  },
  {
   "cell_type": "code",
   "execution_count": 3,
   "metadata": {},
   "outputs": [
    {
     "name": "stdout",
     "output_type": "stream",
     "text": [
      "制作一杯卡布奇诺咖啡\n",
      "制作一杯拿铁咖啡\n"
     ]
    }
   ],
   "source": [
    "def make_coffee(name = '卡布奇诺'):\n",
    "    return(\"制作一杯{0}咖啡\".format(name))\n",
    "\n",
    "print(make_coffee())\n",
    "print(make_coffee(\"拿铁\"))"
   ]
  },
  {
   "cell_type": "markdown",
   "metadata": {},
   "source": [
    "可变参数，python中函数的参数个数是可变的，它可以接受不确定数量的参数，这种参数称为可变参数。Python 中可变参数有两种: 单 * 号表示参数在函数中是一个元组， 双  ** 号表示参数被组成一个字典。"
   ]
  },
  {
   "cell_type": "code",
   "execution_count": 4,
   "metadata": {},
   "outputs": [
    {
     "name": "stdout",
     "output_type": "stream",
     "text": [
      "28.0\n"
     ]
    }
   ],
   "source": [
    "def sum(*numbers,multiple=1):\n",
    "    total = 0.0\n",
    "    for number in numbers:\n",
    "        total += number\n",
    "    return total*multiple\n",
    "\n",
    "print(sum(2,3,6,1,7,9))"
   ]
  },
  {
   "cell_type": "code",
   "execution_count": 5,
   "metadata": {},
   "outputs": [
    {
     "name": "stdout",
     "output_type": "stream",
     "text": [
      "34.0\n"
     ]
    }
   ],
   "source": [
    "print(sum(2,4,1,7,3,multiple = 2))  #可变参数会自动组成一个元组，multiple 必须显示给定参数值"
   ]
  },
  {
   "cell_type": "code",
   "execution_count": 6,
   "metadata": {},
   "outputs": [
    {
     "name": "stdout",
     "output_type": "stream",
     "text": [
      "102.0\n"
     ]
    }
   ],
   "source": [
    "tuple1 = (4,1,6,8,2)\n",
    "print(sum(*tuple1,1,5,7,multiple = 3))  #给定的参数是一个元组，必须用*号调用"
   ]
  },
  {
   "cell_type": "code",
   "execution_count": 7,
   "metadata": {},
   "outputs": [
    {
     "name": "stdout",
     "output_type": "stream",
     "text": [
      "one=1\n",
      "two=2\n",
      "three=3\n",
      "four=4\n",
      "sex=True\n"
     ]
    }
   ],
   "source": [
    "def show_info(sep=\":\",**info):\n",
    "    for k,v in info.items():\n",
    "        print(\"{0}{2}{1}\".format(k,v,sep))\n",
    "        \n",
    "input_dict = {'one':1,'two':2,'three':3,'four':4}\n",
    "show_info(**input_dict,sex=True,sep=\"=\") #可以传入字典参数，也可以在字典中加入新的键值对"
   ]
  },
  {
   "cell_type": "markdown",
   "metadata": {},
   "source": [
    "# 函数返回值"
   ]
  },
  {
   "cell_type": "markdown",
   "metadata": {},
   "source": [
    "Python 函数返回值也是比较灵活的，主要有三种形式:无返回值，单一返回值，多返回值"
   ]
  },
  {
   "cell_type": "markdown",
   "metadata": {},
   "source": [
    "# 函数变量作用域"
   ]
  },
  {
   "cell_type": "markdown",
   "metadata": {},
   "source": [
    "变量可以在模块中创建，其作用域是整个模块，称为全局变量。变量也可以在函数中创建，默认情况下是作用域是整个函数，称为局部变量。"
   ]
  },
  {
   "cell_type": "code",
   "execution_count": 8,
   "metadata": {},
   "outputs": [
    {
     "name": "stdout",
     "output_type": "stream",
     "text": [
      "x = 20\n",
      "全局变量x = 20\n"
     ]
    }
   ],
   "source": [
    "#coding = utf-8\n",
    "x = 20 #全局变量\n",
    "def print_value():\n",
    "    print ('x = {0}'.format(x))\n",
    "    \n",
    "print_value()\n",
    "print(\"全局变量x = {0}\".format(x))"
   ]
  },
  {
   "cell_type": "code",
   "execution_count": 9,
   "metadata": {},
   "outputs": [
    {
     "name": "stdout",
     "output_type": "stream",
     "text": [
      "局部变量: x = 10\n",
      "全局变量: x = 20\n"
     ]
    }
   ],
   "source": [
    "x = 20\n",
    "def print_value():\n",
    "    x = 10\n",
    "    print('局部变量: x = {0}'.format(x))\n",
    "\n",
    "print_value()\n",
    "print(\"全局变量: x = {0}\".format(x))"
   ]
  },
  {
   "cell_type": "code",
   "execution_count": 10,
   "metadata": {},
   "outputs": [
    {
     "name": "stdout",
     "output_type": "stream",
     "text": [
      "函数变量: x = 10\n",
      "全局变量: x = 10\n"
     ]
    }
   ],
   "source": [
    "x = 20\n",
    "def print_value():\n",
    "    global x #global 将局部变量的作用域变为全局\n",
    "    x = 10\n",
    "    print('函数变量: x = {0}'.format(x))\n",
    "\n",
    "print_value()\n",
    "print(\"全局变量: x = {0}\".format(x))"
   ]
  },
  {
   "cell_type": "markdown",
   "metadata": {},
   "source": [
    "# 生成器"
   ]
  },
  {
   "cell_type": "markdown",
   "metadata": {},
   "source": [
    "在一个函数中经常使用return 关键字返回数据，但是有时候会使用到yield关键字返回数据。使用yield关键字的函数返回的是一个生成器（generator）对象，生成器对象时一种可迭代对象。"
   ]
  },
  {
   "cell_type": "markdown",
   "metadata": {},
   "source": [
    "生成器特别适用于遍历一些大序列对象，它无须将对象的所有元素都载入内存后才开始进行操作，仅在迭代至某个元素时才会将该元素载入内存。"
   ]
  },
  {
   "cell_type": "code",
   "execution_count": 11,
   "metadata": {},
   "outputs": [
    {
     "name": "stdout",
     "output_type": "stream",
     "text": [
      "1 4 9 16 25 "
     ]
    }
   ],
   "source": [
    "#coding = utf-8\n",
    "#计算平方\n",
    "\n",
    "\n",
    "def square(num):\n",
    "    n_list = []\n",
    "    for i in range(1,num + 1):\n",
    "        n_list.append(i*i)\n",
    "        \n",
    "    return n_list\n",
    "for i in square(5):\n",
    "    print (i,end = ' ')"
   ]
  },
  {
   "cell_type": "code",
   "execution_count": 12,
   "metadata": {},
   "outputs": [
    {
     "name": "stdout",
     "output_type": "stream",
     "text": [
      "1 4 9 16 25 "
     ]
    }
   ],
   "source": [
    "def square(num):\n",
    "    \n",
    "    \n",
    "    for i in range(1,num+1):\n",
    "        yield i*i  #yield 关键字返回平方数结果，此时没有使用return，square 函数返回一个生成器对象\n",
    "        \n",
    "for i in square(5):\n",
    "    print(i,end = \" \")"
   ]
  },
  {
   "cell_type": "code",
   "execution_count": 13,
   "metadata": {},
   "outputs": [
    {
     "data": {
      "text/plain": [
       "1"
      ]
     },
     "execution_count": 13,
     "metadata": {},
     "output_type": "execute_result"
    }
   ],
   "source": [
    "n_seq = square(5)\n",
    "n_seq.__next__()  #生成器对象时可迭代的，显示调用生成器对象的__next__方法"
   ]
  },
  {
   "cell_type": "code",
   "execution_count": 14,
   "metadata": {},
   "outputs": [
    {
     "data": {
      "text/plain": [
       "4"
      ]
     },
     "execution_count": 14,
     "metadata": {},
     "output_type": "execute_result"
    }
   ],
   "source": [
    "n_seq.__next__()"
   ]
  },
  {
   "cell_type": "markdown",
   "metadata": {},
   "source": [
    "# 嵌套函数"
   ]
  },
  {
   "cell_type": "markdown",
   "metadata": {},
   "source": [
    "函数还可以嵌套在另外的函数体中，这就是嵌套函数"
   ]
  },
  {
   "cell_type": "code",
   "execution_count": 15,
   "metadata": {},
   "outputs": [],
   "source": [
    "#coding = utf-8\n",
    "def calculate(n1,n2,opr):\n",
    "    multiple = 2\n",
    "    \n",
    "    def add (a,b):\n",
    "        return (a+b)*multiple\n",
    "    def sub (a,b):\n",
    "        return (a-b)*multiple\n",
    "    if opr == \"+\":\n",
    "        return add(n1,n2)\n",
    "    elif opr == \"-\":\n",
    "        return sub(n1,n2)\n",
    "    else :\n",
    "        return (\"Error\")"
   ]
  },
  {
   "cell_type": "code",
   "execution_count": 16,
   "metadata": {},
   "outputs": [
    {
     "name": "stdout",
     "output_type": "stream",
     "text": [
      "10\n"
     ]
    }
   ],
   "source": [
    "print(calculate(1,4,\"+\"))"
   ]
  },
  {
   "cell_type": "markdown",
   "metadata": {},
   "source": [
    "# 函数式编程基础"
   ]
  },
  {
   "cell_type": "markdown",
   "metadata": {},
   "source": [
    "函数式编程（functional programming）与面向对象编程一样都是一种变编程范式，函数式编程也称面向函数的编程。\n",
    "\n",
    "Python 并不是彻底的函数式编程语言，但还是提供了一些函数式编程必备的技术，主要有函数类型和Lambda表达式，它们是实现函数式编程的基础。"
   ]
  },
  {
   "cell_type": "markdown",
   "metadata": {},
   "source": [
    "## 函数类型"
   ]
  },
  {
   "cell_type": "markdown",
   "metadata": {},
   "source": [
    "Python 提供了一种函数类型function，任何一个函数都有函数类型，函数调用时，就创建了函数类型实例，即函数对象。函数类型实例与其他类型实例一样，在使用场景上没有区别，它可以赋值给一个变量，也可以作为参数传递给一个函数，还可以函数返回值使用。"
   ]
  },
  {
   "cell_type": "code",
   "execution_count": 17,
   "metadata": {},
   "outputs": [
    {
     "name": "stdout",
     "output_type": "stream",
     "text": [
      "<class 'function'>\n"
     ]
    }
   ],
   "source": [
    "# -*- coding:utf-8 -*- \n",
    "def calculate_fun(opr):\n",
    "    def add(a,b):\n",
    "        return a+b\n",
    "    def sub(a,b):\n",
    "        return a-b\n",
    "    if opr =='+':\n",
    "        return add\n",
    "    else:\n",
    "        return sub\n",
    "f1 = calculate_fun(\"+\") #f1 为add 函数的对象\n",
    "print(type(f1))"
   ]
  },
  {
   "cell_type": "code",
   "execution_count": 18,
   "metadata": {},
   "outputs": [
    {
     "name": "stdout",
     "output_type": "stream",
     "text": [
      "15\n"
     ]
    }
   ],
   "source": [
    "print(f1(10,5))"
   ]
  },
  {
   "cell_type": "markdown",
   "metadata": {},
   "source": [
    "## Lambda表达式"
   ]
  },
  {
   "cell_type": "markdown",
   "metadata": {},
   "source": [
    "Lambda表达式本质上是一个匿名函数，匿名函数也是函数，有函数类型，也可以创建函数对象。\n",
    "\n",
    "Lambda表达式定义语法:\n",
    "\n",
    "lambda 参数列表 : Lambda 体\n",
    "\n",
    "lambda 是关键字声明，这是一个Lambda表达式，“参数列表”与函数的参数列表是一样的，但不需要小括号括起来，冒号后面是“Lambda 体”,Lambda表达式的主要代码在此处编写，类似于函数体。\n",
    "\n",
    "Lambda体部分不能是一个代码块，不能包含多条语句，只能有一条语句，语句会计算一个结果返回给Lambda表达式，但是与函数不同的是，不需要使用return语句返回。与其他语言中的Lambda表达式相比，Python中提供的Lambda表达式只能处理一些简单的计算。\n"
   ]
  },
  {
   "cell_type": "code",
   "execution_count": 19,
   "metadata": {},
   "outputs": [
    {
     "name": "stdout",
     "output_type": "stream",
     "text": [
      "<class 'function'>\n",
      "9\n"
     ]
    }
   ],
   "source": [
    "# -*- coding:utf-8 -*-\n",
    "#重构calculate_fun\n",
    "def calculate_fun(opr):\n",
    "    if opr == \"+\":\n",
    "        return lambda a,b :(a+b)\n",
    "    else:\n",
    "        return lambda a,b :(a-b)\n",
    "    \n",
    "f1 = calculate_fun(\"+\")\n",
    "print(type(f1))\n",
    "print(f1(4,5))"
   ]
  },
  {
   "cell_type": "markdown",
   "metadata": {},
   "source": [
    "## 三大基础函数"
   ]
  },
  {
   "cell_type": "markdown",
   "metadata": {},
   "source": [
    "函数式编程的本质是通过函数处理数据，过滤、映射和聚合是处理数据的三大基本操作。针对其中的三大基本操作，python提供了三个基础的函数:filter() map() reduce()"
   ]
  },
  {
   "cell_type": "markdown",
   "metadata": {},
   "source": [
    "filter() 过滤使用filter()函数，可以对可迭代对象的元素进行过滤，filter()函数语法:\n",
    "\n",
    "filter(function,iterable) #function 是一个函数，参数iterable是可迭代对象。filter()函数调用时iterable会被遍历，它的元素被逐一传入function函数，function函数返回布尔值。在function函数中编写过滤条件，如果为True的元素被保留，如果为False的元素被过滤掉。"
   ]
  },
  {
   "cell_type": "code",
   "execution_count": 21,
   "metadata": {},
   "outputs": [
    {
     "name": "stdout",
     "output_type": "stream",
     "text": [
      "['Tony', 'Tom']\n"
     ]
    }
   ],
   "source": [
    "users = ['Tony','Tom','Ben','Alex']\n",
    "users_filter = filter(lambda u: u.startswith('T'),users)\n",
    "print(list(users_filter))"
   ]
  },
  {
   "cell_type": "markdown",
   "metadata": {},
   "source": [
    "map()映射操作函数，可以对可迭代对象的元素进行交换，map()函数语法：\n",
    "\n",
    "map(function,iterable)#function 是一个函数，参数iterable是可迭代对象。map()函数调用时iterable会被遍历，它的元素逐一传入function函数，在function函数中对元素进行变换。"
   ]
  },
  {
   "cell_type": "code",
   "execution_count": 22,
   "metadata": {},
   "outputs": [
    {
     "name": "stdout",
     "output_type": "stream",
     "text": [
      "['tony', 'tom', 'ben', 'alex']\n"
     ]
    }
   ],
   "source": [
    "users = ['Tony','Tom','Ben','Alex']\n",
    "users_map = map(lambda u:u.lower(),users)\n",
    "print(list(users_map))"
   ]
  },
  {
   "cell_type": "markdown",
   "metadata": {},
   "source": [
    "reduce() 聚合函数会将多个数据聚合起来输出单个数据，聚合函数最基础的是归纳函数reduce(),将多个数据按照指定的算法积累叠加起来，最后输出一个数据。\n",
    "\n",
    "reduce(function,iterable[,initializer])#参数function函数是聚合操作函数，改函数有两个参数，参数iterable是可迭代对象，参数initizlizer初始值。"
   ]
  },
  {
   "cell_type": "code",
   "execution_count": 24,
   "metadata": {},
   "outputs": [
    {
     "name": "stdout",
     "output_type": "stream",
     "text": [
      "10 12\n"
     ]
    }
   ],
   "source": [
    "from functools import reduce\n",
    "\n",
    "a = (1,2,3,4)\n",
    "a_reduce = reduce(lambda acc,i:acc + i,a) #reduce 计算结果是一个值可以直接返回\n",
    "a_reduce1 = reduce(lambda acc,i:acc + i,a,2) #reduce 设定初始值为2，返回12\n",
    "print(a_reduce,a_reduce1)"
   ]
  },
  {
   "cell_type": "code",
   "execution_count": null,
   "metadata": {},
   "outputs": [],
   "source": []
  }
 ],
 "metadata": {
  "kernelspec": {
   "display_name": "Python 3",
   "language": "python",
   "name": "python3"
  },
  "language_info": {
   "codemirror_mode": {
    "name": "ipython",
    "version": 3
   },
   "file_extension": ".py",
   "mimetype": "text/x-python",
   "name": "python",
   "nbconvert_exporter": "python",
   "pygments_lexer": "ipython3",
   "version": "3.6.3"
  }
 },
 "nbformat": 4,
 "nbformat_minor": 2
}
