{
 "cells": [
  {
   "cell_type": "markdown",
   "metadata": {},
   "source": [
    "# 数据交换格式"
   ]
  },
  {
   "cell_type": "markdown",
   "metadata": {},
   "source": [
    "数据交换格式有CSV格式、XML格式和JSON格式"
   ]
  },
  {
   "cell_type": "markdown",
   "metadata": {},
   "source": [
    "## CSV数据交换"
   ]
  },
  {
   "cell_type": "markdown",
   "metadata": {},
   "source": [
    "### reader()函数&writer()函数"
   ]
  },
  {
   "cell_type": "markdown",
   "metadata": {},
   "source": [
    "csv.reader(csvfile,dialect='excel',\\**fmtparams)\n",
    "\n",
    "csv.writer(csvfile,dialect='excel',\\**fmtparams)\n",
    "\n",
    "csv.reader()函数返回一个读取器reader对象。csvfile参数是CSV文件对象;dialect参数是方言，方言提供一组预定好的格式参数;fmtparams参数可以提供单个格式化参数。\n",
    "\n",
    "csv.writer()函数返回一个写入器writer对象\n",
    "\n",
    "方言dialect实际参数是csv.Dialect的子类，\n",
    "\n",
    "1.csv.excel类定义Excel生成的CSV文件的常用属性，它的方言是“excel”\n",
    "\n",
    "2.csv.excel_tab类定义了Excel生成的Tab（水平制表符）分隔文件的常用属性，“excel-tab”\n",
    "\n",
    "3.csv.unix_dialect类定义在UNIX系统上生成的CSV文件的常用属性，即使用\\n作为终止符，而windows下使用的是\\r\\n作为行终止符，方言是“unix”"
   ]
  },
  {
   "cell_type": "code",
   "execution_count": 1,
   "metadata": {},
   "outputs": [],
   "source": [
    "import csv"
   ]
  },
  {
   "cell_type": "code",
   "execution_count": 2,
   "metadata": {},
   "outputs": [
    {
     "name": "stdout",
     "output_type": "stream",
     "text": [
      "9|web clients and services|base640,urllib\n",
      "\n",
      "10|web Programming:CGI|cgi,time,wsgiref\n",
      "\n",
      "13|web Services|urllib,twython\n",
      "\n"
     ]
    }
   ],
   "source": [
    "with open(\"bookdata.csv\",\"r\",encoding=\"utf-8\") as rf:\n",
    "    reader = csv.reader(rf,dialect=csv.excel)\n",
    "    for row in reader:\n",
    "        print(\"|\".join(row))"
   ]
  },
  {
   "cell_type": "code",
   "execution_count": 3,
   "metadata": {},
   "outputs": [
    {
     "name": "stdout",
     "output_type": "stream",
     "text": [
      "9|web clients and services|base640,urllib\n",
      "\n",
      "10|web Programming:CGI|cgi,time,wsgiref\n",
      "\n",
      "13|web Services|urllib,twython\n",
      "\n"
     ]
    }
   ],
   "source": [
    "with open(\"bookdata.csv\",\"r\",encoding=\"utf-8\") as rf:\n",
    "    reader = csv.reader(rf,dialect=csv.excel)\n",
    "    with open(\"books.csv\",\"w\",newline=\"\",encoding=\"utf-8\") as wf:\n",
    "        writer = csv.writer(wf)\n",
    "        for row in reader:\n",
    "            print(\"|\".join(row))\n",
    "            writer.writerow(row)"
   ]
  },
  {
   "cell_type": "markdown",
   "metadata": {},
   "source": [
    "## XML 数据交换格式"
   ]
  },
  {
   "cell_type": "markdown",
   "metadata": {},
   "source": [
    "xml是一种字描述的数据交换格式"
   ]
  },
  {
   "cell_type": "markdown",
   "metadata": {},
   "source": [
    "### xml文档结构"
   ]
  },
  {
   "cell_type": "markdown",
   "metadata": {},
   "source": [
    "xml文档结构要遵守一定的格式规范。xml虽然在结构上与html很相似，但是有着严格的语法规则。只有严格按照规范编写的xml文档才是有效的文档，也称为“格式良好”的XML文档。\n",
    "\n",
    "1）声明:<?xml version=\"1.0\" encoding=\"UTF-8\"?> 就是声明XML文件，定义版本和字符集\n",
    "\n",
    "2）根元素:只有一个，里面包含其他的子元素\n",
    "\n",
    "3）子元素\n",
    "\n",
    "4）属性：一个元素不能有多个名字相同的属性\n",
    "\n",
    "5）命名空间:用于为XML提供名字唯一的元素和属性，xmlns:开头的都是命名空间\n",
    "\n",
    "6）限定名:是有命名空间引出的概念，定义了元素和属性的合法标识符。限定名通常在XML文档中用作特定元素或属性引用。<soap:Body>就是合法限定名，前缀soap是由命名空间定义的。"
   ]
  },
  {
   "cell_type": "markdown",
   "metadata": {},
   "source": [
    "### 解析XML文档"
   ]
  },
  {
   "cell_type": "markdown",
   "metadata": {},
   "source": [
    "XML文档操作读入XML文档并分析的过程称为“解析”\n",
    "\n",
    "解析XML文档在目前有SAX和DOM两种流行的模式\n",
    "\n",
    "SAX（Simple API for XML）是一种基于事件的解析模式。解析XML文档时，程序从上到下读取XML文档，遇到开始标签、结束标签和属性等，就会触发相应的事件。但是这种解析XML文件的方式有一个弊端，那就是只能读取XML文档，不能写入XML文档，它的优点是解析速度快。所以如果只是对读取进行解析，推荐使用SAX模式解析。\n",
    "\n",
    "DOM（Document Object Model）将XML文档作为一棵树状结构进行解析，获取节点的内容以及相关的属性，或是新增、删除和修改节点的内容。XML解析器在加载XML文件以后，DOM模式将XML文件视为一个树状结构的节点，一次性读入内存。如果文档比较大，解析速度就会变慢。但是DOM模式能够修改XML文档。\n",
    "\n",
    "Python标准库中提供了支持SAX和DOM的XML模块，但同时Python也提供了另外一个兼顾SAX和DOM优点的XML模块---ElementTree."
   ]
  },
  {
   "cell_type": "code",
   "execution_count": 4,
   "metadata": {},
   "outputs": [
    {
     "name": "stdout",
     "output_type": "stream",
     "text": [
      "<class 'xml.etree.ElementTree.ElementTree'>\n",
      "<class 'xml.etree.ElementTree.Element'>\n",
      "Notes\n",
      "第0个Note元素,属性:{'id': '1'}\n",
      "    标签：CDate,内容：2018-3-21\n",
      "    标签：Content,内容：发布Python0\n",
      "    标签：UserID,内容：Tony\n",
      "第1个Note元素,属性:{'id': '2'}\n",
      "    标签：CDate,内容：2018-3-22\n",
      "    标签：Content,内容：发布Python1\n",
      "    标签：UserID,内容：Tony\n",
      "第2个Note元素,属性:{'id': '3'}\n",
      "    标签：CDate,内容：2018-3-24\n",
      "    标签：Content,内容：发布Python2\n",
      "    标签：UserID,内容：Tony\n",
      "第3个Note元素,属性:{'id': '4'}\n",
      "    标签：CDate,内容：2018-3-24\n",
      "    标签：Content,内容：发布Python3\n",
      "    标签：UserID,内容：Tony\n",
      "第4个Note元素,属性:{'id': '5'}\n",
      "    标签：CDate,内容：2018-3-25\n",
      "    标签：Content,内容：发布Python5\n",
      "    标签：UserID,内容：Tony\n"
     ]
    }
   ],
   "source": [
    "import xml.etree.ElementTree as ET\n",
    "\n",
    "tree = ET.parse(\"Notes.xml\")#parse()函数创建XML文档树tree，参数可以是表示XML文件的字符串，也可以是XML文件对象\n",
    "print(type(tree))\n",
    "\n",
    "root = tree.getroot()\n",
    "print(type(root))\n",
    "print(root.tag)\n",
    "\n",
    "for index,child in enumerate(root):\n",
    "    print(\"第{0}个{1}元素,属性:{2}\".format(index,child.tag,child.attrib))\n",
    "    for i,child_child in enumerate(child):\n",
    "        print(\"    标签：{0},内容：{1}\".format(child_child.tag,child_child.text))"
   ]
  },
  {
   "cell_type": "markdown",
   "metadata": {},
   "source": [
    "### XPath"
   ]
  },
  {
   "cell_type": "markdown",
   "metadata": {},
   "source": [
    "实际开发时，往往需要查找某些特殊的元素或某些特殊属性。这需要使用xml.etree.ElementTree.Element的相关find方法，还要结合XPath匹配查找。\n",
    "\n",
    "xml.etree.ElementTree.Element的相关find方法有三种:\n",
    "\n",
    "1)find(match,namespaces=None) 查找匹配的第一个子元素。match可以是标签名或XPath返回元素对象或None。namespace是指定命名空间，如果非空，那么查找会在指定的命名空间的标签中进行。\n",
    "\n",
    "2)findall(match,namespaces=None) 查找所有匹配的子元素，参数同find()方法。返回值是符合条件的元素列表。\n",
    "\n",
    "3)findtext(match,default=None,namespaces=None) 查找匹配的第一个子元素的文本，如果未找到元素，则返回默认。default参数是默认值，其他参数同find\n",
    "\n",
    "XPath是专门用来在xml文档中查找信息的语言。XPath将XML中的所有元素、属性和文本看作节点Node，根元素就是根节点，属性称为属性节点，文本成文文本节点。除了根节点外，其他节点都有一个父节点，零个或多个子节点和兄弟节点。"
   ]
  },
  {
   "cell_type": "markdown",
   "metadata": {},
   "source": [
    "XPath 表达式:\n",
    "\n",
    "nodename  :选择nodename子节点\n",
    "\n",
    ". :选择当前节点 ，例如./Node 当前节点下的所有Node子节点\n",
    "\n",
    "/ :路径指示符，相当于目录分隔符，例如./Node/CDate 表示所有Node子节点下的CDate节点\n",
    "\n",
    ".. :选择父节点，例如 ./Node/CDate/..表示CDate节点的父节点，其实就是Node节点\n",
    "\n",
    "// :所有后代节点（包括子节点、孙节点等），例如 .//CDate 表示当前节点中查找所有CDate后代节点。\n",
    "\n",
    "[@attrib]  :选择指定属性的所有节点， 例如 ./Node[@id] 表示有id属性的所有Node节点\n",
    "\n",
    "[@attrib='value'] 选择指定属性等于value的所有节点 ，例如 ./Node[@id='1'] 表示选择有id = '1' 属性的所有Node节点\n",
    "\n",
    "[position] :指定位置，位置从1开始，最后一个可以使用last()获取，例如 ./Node[1] 表示第一个Node节点， ./Node[last()] 表示最后一个Node节点"
   ]
  },
  {
   "cell_type": "code",
   "execution_count": 5,
   "metadata": {},
   "outputs": [
    {
     "name": "stdout",
     "output_type": "stream",
     "text": [
      "Note {'id': '1'}\n"
     ]
    }
   ],
   "source": [
    "node = root.find(\"./Note\") #当前节点下的第一个Note节点\n",
    "print(node.tag,node.attrib)"
   ]
  },
  {
   "cell_type": "code",
   "execution_count": 6,
   "metadata": {},
   "outputs": [
    {
     "name": "stdout",
     "output_type": "stream",
     "text": [
      "2018-3-21\n"
     ]
    }
   ],
   "source": [
    "node = root.find(\"./Note/CDate\")\n",
    "print(node.text)"
   ]
  },
  {
   "cell_type": "code",
   "execution_count": 7,
   "metadata": {},
   "outputs": [
    {
     "name": "stdout",
     "output_type": "stream",
     "text": [
      "Note {'id': '1'}\n"
     ]
    }
   ],
   "source": [
    "node = root.find(\"./Note/CDate/..\")\n",
    "print(node.tag,node.attrib)"
   ]
  },
  {
   "cell_type": "code",
   "execution_count": 8,
   "metadata": {},
   "outputs": [
    {
     "name": "stdout",
     "output_type": "stream",
     "text": [
      "2018-3-21\n",
      "发布Python0\n",
      "发布Python1\n",
      "发布Python2\n",
      "发布Python3\n",
      "发布Python5\n"
     ]
    }
   ],
   "source": [
    "node = root.find(\".//CDate\")#当前节点中查找所有的后代节点中的第一个CDate节点\n",
    "print(node.text)\n",
    "nodes = root.findall(\".//Content\")#当前节点中查找所有的后代节点中的Content节点\n",
    "for node in nodes:\n",
    "    print(node.text)"
   ]
  },
  {
   "cell_type": "code",
   "execution_count": 9,
   "metadata": {},
   "outputs": [
    {
     "name": "stdout",
     "output_type": "stream",
     "text": [
      "Note {'id': '1'}\n"
     ]
    }
   ],
   "source": [
    "node = root.find(\"./Note[@id]\")#具有id属性的第一个Note节点\n",
    "print(node.tag,node.attrib)"
   ]
  },
  {
   "cell_type": "code",
   "execution_count": 10,
   "metadata": {},
   "outputs": [
    {
     "name": "stdout",
     "output_type": "stream",
     "text": [
      "Note {'id': '2'}\n",
      "2018-3-22\n"
     ]
    }
   ],
   "source": [
    "node = root.find(\"./Note[@id='2']\")\n",
    "print(node.tag,node.attrib)\n",
    "print(node.find(\"./CDate\").text)"
   ]
  },
  {
   "cell_type": "code",
   "execution_count": 11,
   "metadata": {},
   "outputs": [
    {
     "name": "stdout",
     "output_type": "stream",
     "text": [
      "Note {'id': '2'}\n"
     ]
    }
   ],
   "source": [
    "node = root.find(\"./Note[2]\") #第二个Note节点\n",
    "print(node.tag,node.attrib)"
   ]
  },
  {
   "cell_type": "code",
   "execution_count": 12,
   "metadata": {},
   "outputs": [
    {
     "name": "stdout",
     "output_type": "stream",
     "text": [
      "Note {'id': '5'}\n"
     ]
    }
   ],
   "source": [
    "node = root.find(\"./Note[last()]\") #最后一个Note节点\n",
    "print(node.tag,node.attrib)"
   ]
  },
  {
   "cell_type": "code",
   "execution_count": 13,
   "metadata": {},
   "outputs": [
    {
     "name": "stdout",
     "output_type": "stream",
     "text": [
      "Note {'id': '3'}\n"
     ]
    }
   ],
   "source": [
    "node = root.find(\"./Note[last()-2]\") #倒数第三个Note节点\n",
    "print(node.tag,node.attrib)"
   ]
  },
  {
   "cell_type": "markdown",
   "metadata": {},
   "source": [
    "## JSON数据交换格式"
   ]
  },
  {
   "cell_type": "markdown",
   "metadata": {},
   "source": [
    "JSON (JavaScript Object Notation) 是一种轻量级的数据交换格式。所谓轻量级，是与XML文档结构相比而言的。"
   ]
  },
  {
   "cell_type": "markdown",
   "metadata": {},
   "source": [
    "## JSON 数据编码\n",
    "dumps()  dump()函数\n",
    "\n",
    "Python 数据与JSON数据映射关系:\n",
    "\n",
    "### Python                                         JSON\n",
    "\n",
    "字典                                                                                 对象\n",
    "\n",
    "列表、元组                                                                            数组\n",
    "\n",
    "字符串                                                                                字符串\n",
    "\n",
    "整数、浮点等数字类型                                                                  数字\n",
    "\n",
    "True                                                                                  true\n",
    "\n",
    "False                                                                                 false\n",
    "\n",
    "None                                                                                  null"
   ]
  },
  {
   "cell_type": "code",
   "execution_count": 14,
   "metadata": {},
   "outputs": [
    {
     "name": "stdout",
     "output_type": "stream",
     "text": [
      "{'name': 'tony', 'age': 30, 'sex': True, 'a': [1, 3], 'b': ('A', 'B', 'C')}\n",
      "<class 'dict'>\n"
     ]
    }
   ],
   "source": [
    "#coding=utf-8\n",
    "import json\n",
    "\n",
    "py_dict = {\"name\":\"tony\",\"age\":30,\"sex\":True}\n",
    "py_list = [1,3]\n",
    "py_tuple = (\"A\",\"B\",\"C\")\n",
    "\n",
    "py_dict[\"a\"] = py_list\n",
    "py_dict[\"b\"] = py_tuple\n",
    "\n",
    "print(py_dict)\n",
    "print(type(py_dict))"
   ]
  },
  {
   "cell_type": "code",
   "execution_count": 15,
   "metadata": {},
   "outputs": [
    {
     "name": "stdout",
     "output_type": "stream",
     "text": [
      "{\"name\": \"tony\", \"age\": 30, \"sex\": true, \"a\": [1, 3], \"b\": [\"A\", \"B\", \"C\"]}\n",
      "<class 'str'>\n"
     ]
    }
   ],
   "source": [
    "json_obj = json.dumps(py_dict)\n",
    "print(json_obj)\n",
    "print(type(json_obj))"
   ]
  },
  {
   "cell_type": "code",
   "execution_count": 16,
   "metadata": {},
   "outputs": [
    {
     "name": "stdout",
     "output_type": "stream",
     "text": [
      "{\n",
      "    \"name\": \"tony\",\n",
      "    \"age\": 30,\n",
      "    \"sex\": true,\n",
      "    \"a\": [\n",
      "        1,\n",
      "        3\n",
      "    ],\n",
      "    \"b\": [\n",
      "        \"A\",\n",
      "        \"B\",\n",
      "        \"C\"\n",
      "    ]\n",
      "}\n"
     ]
    }
   ],
   "source": [
    "json_obj = json.dumps(py_dict,indent=4)# indent =4 表示json字符串格式缩进4个空格\n",
    "print(json_obj)"
   ]
  },
  {
   "cell_type": "code",
   "execution_count": 17,
   "metadata": {},
   "outputs": [],
   "source": [
    "with open(\"data1.json\",\"w\") as f:\n",
    "    json.dump(py_dict,f)\n",
    "    \n",
    "with open(\"data2.json\",\"w\") as f:\n",
    "    json.dump(py_dict,f,indent=4)"
   ]
  },
  {
   "cell_type": "markdown",
   "metadata": {},
   "source": [
    "## JSON数据解码\n",
    "\n",
    "解码函数: loads()读取json字符串 load()函数读取文件或流"
   ]
  },
  {
   "cell_type": "markdown",
   "metadata": {},
   "source": [
    "### JSON                        Python\n",
    "\n",
    "对象                         字典\n",
    "\n",
    "数组                         列表\n",
    "\n",
    "字符串                       字符串\n",
    "\n",
    "整数数字                     整数\n",
    "\n",
    "实数数字                     浮点\n",
    "\n",
    "true                         True\n",
    "\n",
    "false                        False\n",
    "\n",
    "null                         None"
   ]
  },
  {
   "cell_type": "code",
   "execution_count": 18,
   "metadata": {},
   "outputs": [
    {
     "name": "stdout",
     "output_type": "stream",
     "text": [
      "tony\n",
      "30\n",
      "[1, 3]\n"
     ]
    }
   ],
   "source": [
    "#coding=utf-8\n",
    "\n",
    "import json\n",
    "\n",
    "json_obj = r'{\"name\":\"tony\", \"age\":30, \"sex\": true,\"a\": [1, 3], \"b\": [\"A\",\"B\",\"C\"]}' \n",
    "#字符串内字符必须使用\" \" 否则报错：Expecting property name enclosed in double quotes\n",
    "py_dict = json.loads(json_obj)\n",
    "print(py_dict[\"name\"])\n",
    "print(py_dict[\"age\"])\n",
    "print(py_dict[\"a\"])"
   ]
  },
  {
   "cell_type": "code",
   "execution_count": 19,
   "metadata": {},
   "outputs": [
    {
     "name": "stdout",
     "output_type": "stream",
     "text": [
      "{'name': 'tony', 'age': 30, 'sex': True, 'a': [1, 3], 'b': ['A', 'B', 'C']}\n",
      "[1, 3]\n"
     ]
    }
   ],
   "source": [
    "with open(\"data2.json\",\"r\") as f:\n",
    "    data = json.load(f)\n",
    "    print(data)\n",
    "    print(data[\"a\"])"
   ]
  },
  {
   "cell_type": "markdown",
   "metadata": {},
   "source": [
    "## 配置文件"
   ]
  },
  {
   "cell_type": "markdown",
   "metadata": {},
   "source": [
    "在windows平台经常使用ini文件(Initialization File),它是Windows系统配置文件所采用的存储格式，也称为配置文件。\n",
    "\n",
    "### 配置文件结构\n",
    "\n",
    "配置文件采用键值对数据结构，可以进行少量的数据交换和存储\n",
    "\n",
    "注释用; 单独占一行\n",
    "\n",
    "配置节名称用 [] 括起来\n",
    "\n",
    "配置项内容由键值对构成，默认情况下键和值用等号进行分隔。"
   ]
  },
  {
   "cell_type": "markdown",
   "metadata": {},
   "source": [
    "### 读取配置文件"
   ]
  },
  {
   "cell_type": "markdown",
   "metadata": {},
   "source": [
    "Python 标准库中提供了对配置文件读写模块 ----configparser 。 configparser模块中提供了一个配置文件解析器类ConfigParser，实现读写操作。"
   ]
  },
  {
   "cell_type": "code",
   "execution_count": 20,
   "metadata": {},
   "outputs": [],
   "source": [
    "import configparser"
   ]
  },
  {
   "cell_type": "code",
   "execution_count": 21,
   "metadata": {},
   "outputs": [
    {
     "name": "stdout",
     "output_type": "stream",
     "text": [
      "['Startup', 'Product', 'Windows 10', 'Startup1', 'Product1', 'Windows 101']\n"
     ]
    }
   ],
   "source": [
    "config = configparser.ConfigParser()\n",
    "\n",
    "config.read(\"setup.ini\",encoding=\"utf-8\")\n",
    "\n",
    "print(config.sections()) #返回所有的节"
   ]
  },
  {
   "cell_type": "code",
   "execution_count": 22,
   "metadata": {},
   "outputs": [
    {
     "name": "stdout",
     "output_type": "stream",
     "text": [
      "['requireos', 'requiremsi', 'requireie']\n"
     ]
    }
   ],
   "source": [
    "section1 = config['Startup']\n",
    "print(config.options(\"Startup\")) #返回Startup 节的键"
   ]
  },
  {
   "cell_type": "code",
   "execution_count": 23,
   "metadata": {},
   "outputs": [
    {
     "name": "stdout",
     "output_type": "stream",
     "text": [
      "Windows 10\n"
     ]
    }
   ],
   "source": [
    "print(section1[\"Requireos\"])  #返回值"
   ]
  },
  {
   "cell_type": "code",
   "execution_count": 24,
   "metadata": {},
   "outputs": [
    {
     "name": "stdout",
     "output_type": "stream",
     "text": [
      "AcroRead.msi\n"
     ]
    }
   ],
   "source": [
    "print(config[\"Product\"][\"msi\"])"
   ]
  },
  {
   "cell_type": "markdown",
   "metadata": {},
   "source": [
    "### 写入配置文件"
   ]
  },
  {
   "cell_type": "markdown",
   "metadata": {},
   "source": [
    "configparser 可以更新节配置信息等写入配置文件"
   ]
  },
  {
   "cell_type": "code",
   "execution_count": 25,
   "metadata": {},
   "outputs": [],
   "source": [
    "config[\"Startup\"][\"RequireMSI\"] = \"8.0\"\n",
    "config[\"Product\"][\"RequireMSI\"] = \"4.0\"\n",
    "\n",
    "config.add_section(\"Section2\")\n",
    "config.set(\"Section2\",\"name\",\"Mac\")\n",
    "\n",
    "with open (\"Setup.ini\",\"w\") as fw:\n",
    "    config.write(fw)"
   ]
  },
  {
   "cell_type": "markdown",
   "metadata": {},
   "source": [
    "# NoSQL数据存储"
   ]
  },
  {
   "cell_type": "markdown",
   "metadata": {},
   "source": [
    "非关系型数据库，不通过SQL语句操作数据库，这些数据库称为NoSQL数据库，dbm(DataBase Manager)数据库是最简单的NoSQL数据库，它不需要安装，直接通过键值对数据存储。\n",
    "\n",
    "Python内置dbm模块提供了存储dbm数据的API"
   ]
  },
  {
   "cell_type": "markdown",
   "metadata": {},
   "source": [
    "## dbm 数据库的打开和关闭"
   ]
  },
  {
   "cell_type": "markdown",
   "metadata": {},
   "source": [
    "与关系型数据库类似，dbm数据库使用前需要打开，使用完成需要关闭。打卡数据库使用open()函数，dbm.open(file,flag=\"r\")\n",
    "\n",
    "参数file是数据库文件名，flag是文件打开方式: r 以只读方式打开  w 以读写方式打开  c  以读写方式打开，如果不存在则创建  n 读写方式打开创建一个新的空数据库;\n",
    "\n",
    "关闭数据库使用close() 函数 或使用with   as 模式"
   ]
  },
  {
   "cell_type": "markdown",
   "metadata": {},
   "source": [
    "## dbm数据库存储"
   ]
  },
  {
   "cell_type": "markdown",
   "metadata": {},
   "source": [
    "dbm 数据存储类似于字典数据结构，通过键写入或读取数据。但需要注意的是dbm数据库保存的数据是字符串类型或者字节序列(bytes)类型"
   ]
  },
  {
   "cell_type": "markdown",
   "metadata": {},
   "source": [
    "1) 写入数据: d[key] = data\n",
    "\n",
    "2) 读取数据: data = d[key] 或 data = d.get(key,defaultvalue)\n",
    "\n",
    "3) 删除数据: del d[key] 按照key在数据库d中删除，如果没有key对应的数据则会抛出KeyError异常\n",
    "\n",
    "4) 查找数据: flag = key in d    按照key在数据库d中查找"
   ]
  },
  {
   "cell_type": "code",
   "execution_count": 26,
   "metadata": {},
   "outputs": [
    {
     "name": "stdout",
     "output_type": "stream",
     "text": [
      "Hello\n",
      "22\n"
     ]
    }
   ],
   "source": [
    "import dbm\n",
    "\n",
    "with dbm.open(\"mydb\",\"c\") as db:\n",
    "    db[\"name\"] = \"tony\"\n",
    "    db[\"age\"] = \"22\"\n",
    "    db[\"name\"] = \"Hello\"\n",
    "    print(db[\"name\"].decode())\n",
    "    \n",
    "    age = int(db.get(\"age\",b\"18\").decode())\n",
    "    print(age)\n",
    "    \n",
    "    if \"age\" in db:\n",
    "        db[\"age\"] = \"20\"\n",
    "    name = db[\"name\"]\n",
    "    \n",
    "    #del db[\"name\"]"
   ]
  },
  {
   "cell_type": "code",
   "execution_count": null,
   "metadata": {},
   "outputs": [],
   "source": []
  }
 ],
 "metadata": {
  "kernelspec": {
   "display_name": "Python 3",
   "language": "python",
   "name": "python3"
  },
  "language_info": {
   "codemirror_mode": {
    "name": "ipython",
    "version": 3
   },
   "file_extension": ".py",
   "mimetype": "text/x-python",
   "name": "python",
   "nbconvert_exporter": "python",
   "pygments_lexer": "ipython3",
   "version": "3.6.3"
  }
 },
 "nbformat": 4,
 "nbformat_minor": 2
}
